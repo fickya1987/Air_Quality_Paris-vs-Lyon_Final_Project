{
 "cells": [
  {
   "cell_type": "code",
   "execution_count": 18,
   "metadata": {},
   "outputs": [],
   "source": [
    "#Imorting liraries\n",
    "import pandas as pd \n",
    "import numpy as np \n",
    "import seaborn as sns\n",
    "import matplotlib.pyplot as plt"
   ]
  },
  {
   "cell_type": "code",
   "execution_count": 19,
   "metadata": {},
   "outputs": [],
   "source": [
    "data_ts = pd.read_csv(r'C:\\Users\\radek\\Git-Hub\\Final_Project_Ironhack\\04 - Data Cleaning\\Marseille.csv')"
   ]
  },
  {
   "cell_type": "code",
   "execution_count": 20,
   "metadata": {},
   "outputs": [
    {
     "data": {
      "text/html": [
       "<div>\n",
       "<style scoped>\n",
       "    .dataframe tbody tr th:only-of-type {\n",
       "        vertical-align: middle;\n",
       "    }\n",
       "\n",
       "    .dataframe tbody tr th {\n",
       "        vertical-align: top;\n",
       "    }\n",
       "\n",
       "    .dataframe thead th {\n",
       "        text-align: right;\n",
       "    }\n",
       "</style>\n",
       "<table border=\"1\" class=\"dataframe\">\n",
       "  <thead>\n",
       "    <tr style=\"text-align: right;\">\n",
       "      <th></th>\n",
       "      <th>latitude</th>\n",
       "      <th>longitude</th>\n",
       "      <th>address</th>\n",
       "      <th>datetime</th>\n",
       "      <th>datetimeEpoch</th>\n",
       "      <th>tempmax</th>\n",
       "      <th>tempmin</th>\n",
       "      <th>temp</th>\n",
       "      <th>humidity</th>\n",
       "      <th>precip</th>\n",
       "      <th>...</th>\n",
       "      <th>conditions</th>\n",
       "      <th>description</th>\n",
       "      <th>date</th>\n",
       "      <th>pm25</th>\n",
       "      <th>pm10</th>\n",
       "      <th>o3</th>\n",
       "      <th>no2</th>\n",
       "      <th>so2</th>\n",
       "      <th>co</th>\n",
       "      <th>City</th>\n",
       "    </tr>\n",
       "  </thead>\n",
       "  <tbody>\n",
       "    <tr>\n",
       "      <th>0</th>\n",
       "      <td>43.2934</td>\n",
       "      <td>5.37132</td>\n",
       "      <td>Marseille</td>\n",
       "      <td>2015-01-01</td>\n",
       "      <td>1420066800</td>\n",
       "      <td>9.2</td>\n",
       "      <td>0.1</td>\n",
       "      <td>4.2</td>\n",
       "      <td>72.63</td>\n",
       "      <td>0.2</td>\n",
       "      <td>...</td>\n",
       "      <td>Rain, Partially cloudy</td>\n",
       "      <td>Clearing in the afternoon with early morning r...</td>\n",
       "      <td>2015-01-01</td>\n",
       "      <td>108.0</td>\n",
       "      <td>32.0</td>\n",
       "      <td>NaN</td>\n",
       "      <td>NaN</td>\n",
       "      <td>NaN</td>\n",
       "      <td>NaN</td>\n",
       "      <td>Marseille</td>\n",
       "    </tr>\n",
       "    <tr>\n",
       "      <th>1</th>\n",
       "      <td>43.2934</td>\n",
       "      <td>5.37132</td>\n",
       "      <td>Marseille</td>\n",
       "      <td>2015-01-02</td>\n",
       "      <td>1420153200</td>\n",
       "      <td>12.9</td>\n",
       "      <td>-1.3</td>\n",
       "      <td>6.1</td>\n",
       "      <td>63.60</td>\n",
       "      <td>0.2</td>\n",
       "      <td>...</td>\n",
       "      <td>Rain</td>\n",
       "      <td>Clear conditions throughout the day with after...</td>\n",
       "      <td>2015-01-02</td>\n",
       "      <td>83.0</td>\n",
       "      <td>14.0</td>\n",
       "      <td>NaN</td>\n",
       "      <td>NaN</td>\n",
       "      <td>NaN</td>\n",
       "      <td>NaN</td>\n",
       "      <td>Marseille</td>\n",
       "    </tr>\n",
       "    <tr>\n",
       "      <th>2</th>\n",
       "      <td>43.2934</td>\n",
       "      <td>5.37132</td>\n",
       "      <td>Marseille</td>\n",
       "      <td>2015-01-03</td>\n",
       "      <td>1420239600</td>\n",
       "      <td>15.6</td>\n",
       "      <td>8.1</td>\n",
       "      <td>11.5</td>\n",
       "      <td>70.49</td>\n",
       "      <td>0.0</td>\n",
       "      <td>...</td>\n",
       "      <td>Clear</td>\n",
       "      <td>Clear conditions throughout the day.</td>\n",
       "      <td>2015-01-03</td>\n",
       "      <td>49.0</td>\n",
       "      <td>10.0</td>\n",
       "      <td>NaN</td>\n",
       "      <td>NaN</td>\n",
       "      <td>NaN</td>\n",
       "      <td>NaN</td>\n",
       "      <td>Marseille</td>\n",
       "    </tr>\n",
       "    <tr>\n",
       "      <th>3</th>\n",
       "      <td>43.2934</td>\n",
       "      <td>5.37132</td>\n",
       "      <td>Marseille</td>\n",
       "      <td>2015-01-04</td>\n",
       "      <td>1420326000</td>\n",
       "      <td>16.1</td>\n",
       "      <td>8.9</td>\n",
       "      <td>12.3</td>\n",
       "      <td>64.23</td>\n",
       "      <td>0.0</td>\n",
       "      <td>...</td>\n",
       "      <td>Clear</td>\n",
       "      <td>Clear conditions throughout the day.</td>\n",
       "      <td>2015-01-04</td>\n",
       "      <td>33.0</td>\n",
       "      <td>31.0</td>\n",
       "      <td>NaN</td>\n",
       "      <td>NaN</td>\n",
       "      <td>NaN</td>\n",
       "      <td>NaN</td>\n",
       "      <td>Marseille</td>\n",
       "    </tr>\n",
       "    <tr>\n",
       "      <th>4</th>\n",
       "      <td>43.2934</td>\n",
       "      <td>5.37132</td>\n",
       "      <td>Marseille</td>\n",
       "      <td>2015-01-05</td>\n",
       "      <td>1420412400</td>\n",
       "      <td>13.0</td>\n",
       "      <td>0.9</td>\n",
       "      <td>5.9</td>\n",
       "      <td>74.32</td>\n",
       "      <td>0.0</td>\n",
       "      <td>...</td>\n",
       "      <td>Clear</td>\n",
       "      <td>Clear conditions throughout the day.</td>\n",
       "      <td>2015-01-05</td>\n",
       "      <td>70.0</td>\n",
       "      <td>45.0</td>\n",
       "      <td>NaN</td>\n",
       "      <td>NaN</td>\n",
       "      <td>NaN</td>\n",
       "      <td>NaN</td>\n",
       "      <td>Marseille</td>\n",
       "    </tr>\n",
       "  </tbody>\n",
       "</table>\n",
       "<p>5 rows × 31 columns</p>\n",
       "</div>"
      ],
      "text/plain": [
       "   latitude  longitude    address    datetime  datetimeEpoch  tempmax  \\\n",
       "0   43.2934    5.37132  Marseille  2015-01-01     1420066800      9.2   \n",
       "1   43.2934    5.37132  Marseille  2015-01-02     1420153200     12.9   \n",
       "2   43.2934    5.37132  Marseille  2015-01-03     1420239600     15.6   \n",
       "3   43.2934    5.37132  Marseille  2015-01-04     1420326000     16.1   \n",
       "4   43.2934    5.37132  Marseille  2015-01-05     1420412400     13.0   \n",
       "\n",
       "   tempmin  temp  humidity  precip  ...              conditions  \\\n",
       "0      0.1   4.2     72.63     0.2  ...  Rain, Partially cloudy   \n",
       "1     -1.3   6.1     63.60     0.2  ...                    Rain   \n",
       "2      8.1  11.5     70.49     0.0  ...                   Clear   \n",
       "3      8.9  12.3     64.23     0.0  ...                   Clear   \n",
       "4      0.9   5.9     74.32     0.0  ...                   Clear   \n",
       "\n",
       "                                         description        date   pm25  pm10  \\\n",
       "0  Clearing in the afternoon with early morning r...  2015-01-01  108.0  32.0   \n",
       "1  Clear conditions throughout the day with after...  2015-01-02   83.0  14.0   \n",
       "2               Clear conditions throughout the day.  2015-01-03   49.0  10.0   \n",
       "3               Clear conditions throughout the day.  2015-01-04   33.0  31.0   \n",
       "4               Clear conditions throughout the day.  2015-01-05   70.0  45.0   \n",
       "\n",
       "   o3  no2  so2  co       City  \n",
       "0 NaN  NaN  NaN NaN  Marseille  \n",
       "1 NaN  NaN  NaN NaN  Marseille  \n",
       "2 NaN  NaN  NaN NaN  Marseille  \n",
       "3 NaN  NaN  NaN NaN  Marseille  \n",
       "4 NaN  NaN  NaN NaN  Marseille  \n",
       "\n",
       "[5 rows x 31 columns]"
      ]
     },
     "execution_count": 20,
     "metadata": {},
     "output_type": "execute_result"
    }
   ],
   "source": [
    "data_ts.head()"
   ]
  },
  {
   "cell_type": "code",
   "execution_count": 21,
   "metadata": {},
   "outputs": [
    {
     "data": {
      "text/plain": [
       "Index(['latitude', 'longitude', 'address', 'datetime', 'datetimeEpoch',\n",
       "       'tempmax', 'tempmin', 'temp', 'humidity', 'precip', 'precipcover',\n",
       "       'snow', 'snowdepth', 'windgust', 'windspeed', 'pressure', 'cloudcover',\n",
       "       'visibility', 'solarradiation', 'solarenergy', 'uvindex', 'conditions',\n",
       "       'description', 'date', 'pm25', 'pm10', 'o3', 'no2', 'so2', 'co',\n",
       "       'City'],\n",
       "      dtype='object')"
      ]
     },
     "execution_count": 21,
     "metadata": {},
     "output_type": "execute_result"
    }
   ],
   "source": [
    "data_ts.columns"
   ]
  },
  {
   "cell_type": "code",
   "execution_count": 22,
   "metadata": {},
   "outputs": [
    {
     "data": {
      "text/plain": [
       "latitude          float64\n",
       "longitude         float64\n",
       "address            object\n",
       "datetime           object\n",
       "datetimeEpoch       int64\n",
       "tempmax           float64\n",
       "tempmin           float64\n",
       "temp              float64\n",
       "humidity          float64\n",
       "precip            float64\n",
       "precipcover       float64\n",
       "snow              float64\n",
       "snowdepth         float64\n",
       "windgust          float64\n",
       "windspeed         float64\n",
       "pressure          float64\n",
       "cloudcover        float64\n",
       "visibility        float64\n",
       "solarradiation    float64\n",
       "solarenergy       float64\n",
       "uvindex           float64\n",
       "conditions         object\n",
       "description        object\n",
       "date               object\n",
       "pm25              float64\n",
       "pm10              float64\n",
       "o3                float64\n",
       "no2               float64\n",
       "so2               float64\n",
       "co                float64\n",
       "City               object\n",
       "dtype: object"
      ]
     },
     "execution_count": 22,
     "metadata": {},
     "output_type": "execute_result"
    }
   ],
   "source": [
    "data_ts.dtypes"
   ]
  },
  {
   "cell_type": "code",
   "execution_count": 23,
   "metadata": {},
   "outputs": [],
   "source": [
    "# For time series analysis I just need the date column and the columns with pollutions. I can drop all the rest \n",
    "data_ts =data_ts[['datetime', 'pm25', 'pm10', 'o3', 'no2', 'so2', 'co']]"
   ]
  },
  {
   "cell_type": "code",
   "execution_count": 24,
   "metadata": {},
   "outputs": [
    {
     "data": {
      "text/html": [
       "<div>\n",
       "<style scoped>\n",
       "    .dataframe tbody tr th:only-of-type {\n",
       "        vertical-align: middle;\n",
       "    }\n",
       "\n",
       "    .dataframe tbody tr th {\n",
       "        vertical-align: top;\n",
       "    }\n",
       "\n",
       "    .dataframe thead th {\n",
       "        text-align: right;\n",
       "    }\n",
       "</style>\n",
       "<table border=\"1\" class=\"dataframe\">\n",
       "  <thead>\n",
       "    <tr style=\"text-align: right;\">\n",
       "      <th></th>\n",
       "      <th>datetime</th>\n",
       "      <th>pm25</th>\n",
       "      <th>pm10</th>\n",
       "      <th>o3</th>\n",
       "      <th>no2</th>\n",
       "      <th>so2</th>\n",
       "      <th>co</th>\n",
       "    </tr>\n",
       "  </thead>\n",
       "  <tbody>\n",
       "    <tr>\n",
       "      <th>0</th>\n",
       "      <td>2015-01-01</td>\n",
       "      <td>108.0</td>\n",
       "      <td>32.0</td>\n",
       "      <td>NaN</td>\n",
       "      <td>NaN</td>\n",
       "      <td>NaN</td>\n",
       "      <td>NaN</td>\n",
       "    </tr>\n",
       "    <tr>\n",
       "      <th>1</th>\n",
       "      <td>2015-01-02</td>\n",
       "      <td>83.0</td>\n",
       "      <td>14.0</td>\n",
       "      <td>NaN</td>\n",
       "      <td>NaN</td>\n",
       "      <td>NaN</td>\n",
       "      <td>NaN</td>\n",
       "    </tr>\n",
       "    <tr>\n",
       "      <th>2</th>\n",
       "      <td>2015-01-03</td>\n",
       "      <td>49.0</td>\n",
       "      <td>10.0</td>\n",
       "      <td>NaN</td>\n",
       "      <td>NaN</td>\n",
       "      <td>NaN</td>\n",
       "      <td>NaN</td>\n",
       "    </tr>\n",
       "    <tr>\n",
       "      <th>3</th>\n",
       "      <td>2015-01-04</td>\n",
       "      <td>33.0</td>\n",
       "      <td>31.0</td>\n",
       "      <td>NaN</td>\n",
       "      <td>NaN</td>\n",
       "      <td>NaN</td>\n",
       "      <td>NaN</td>\n",
       "    </tr>\n",
       "    <tr>\n",
       "      <th>4</th>\n",
       "      <td>2015-01-05</td>\n",
       "      <td>70.0</td>\n",
       "      <td>45.0</td>\n",
       "      <td>NaN</td>\n",
       "      <td>NaN</td>\n",
       "      <td>NaN</td>\n",
       "      <td>NaN</td>\n",
       "    </tr>\n",
       "  </tbody>\n",
       "</table>\n",
       "</div>"
      ],
      "text/plain": [
       "     datetime   pm25  pm10  o3  no2  so2  co\n",
       "0  2015-01-01  108.0  32.0 NaN  NaN  NaN NaN\n",
       "1  2015-01-02   83.0  14.0 NaN  NaN  NaN NaN\n",
       "2  2015-01-03   49.0  10.0 NaN  NaN  NaN NaN\n",
       "3  2015-01-04   33.0  31.0 NaN  NaN  NaN NaN\n",
       "4  2015-01-05   70.0  45.0 NaN  NaN  NaN NaN"
      ]
     },
     "execution_count": 24,
     "metadata": {},
     "output_type": "execute_result"
    }
   ],
   "source": [
    "data_ts.head()"
   ]
  },
  {
   "cell_type": "code",
   "execution_count": 25,
   "metadata": {},
   "outputs": [
    {
     "data": {
      "text/plain": [
       "datetime     object\n",
       "pm25        float64\n",
       "pm10        float64\n",
       "o3          float64\n",
       "no2         float64\n",
       "so2         float64\n",
       "co          float64\n",
       "dtype: object"
      ]
     },
     "execution_count": 25,
     "metadata": {},
     "output_type": "execute_result"
    }
   ],
   "source": [
    "data_ts.dtypes"
   ]
  },
  {
   "cell_type": "code",
   "execution_count": 26,
   "metadata": {},
   "outputs": [],
   "source": [
    "#I need to convert datetime to datetime object \n",
    "\n",
    "data_ts.datetime= pd.to_datetime(data_ts.datetime)"
   ]
  },
  {
   "cell_type": "code",
   "execution_count": 27,
   "metadata": {},
   "outputs": [
    {
     "data": {
      "text/plain": [
       "datetime    datetime64[ns]\n",
       "pm25               float64\n",
       "pm10               float64\n",
       "o3                 float64\n",
       "no2                float64\n",
       "so2                float64\n",
       "co                 float64\n",
       "dtype: object"
      ]
     },
     "execution_count": 27,
     "metadata": {},
     "output_type": "execute_result"
    }
   ],
   "source": [
    "data_ts.dtypes"
   ]
  },
  {
   "cell_type": "code",
   "execution_count": 28,
   "metadata": {},
   "outputs": [
    {
     "data": {
      "text/plain": [
       "(2557, 7)"
      ]
     },
     "execution_count": 28,
     "metadata": {},
     "output_type": "execute_result"
    }
   ],
   "source": [
    "data_ts.shape"
   ]
  },
  {
   "cell_type": "markdown",
   "metadata": {},
   "source": [
    "Missing values"
   ]
  },
  {
   "cell_type": "code",
   "execution_count": 29,
   "metadata": {},
   "outputs": [
    {
     "data": {
      "text/plain": [
       "datetime       0\n",
       "pm25         172\n",
       "pm10         179\n",
       "o3          2371\n",
       "no2          537\n",
       "so2         2458\n",
       "co          2557\n",
       "dtype: int64"
      ]
     },
     "execution_count": 29,
     "metadata": {},
     "output_type": "execute_result"
    }
   ],
   "source": [
    "data_ts.isna().sum()\n"
   ]
  },
  {
   "cell_type": "code",
   "execution_count": 30,
   "metadata": {},
   "outputs": [],
   "source": [
    "# I will drop columns with two pollutants so2 and co as they have too much missing values, so they won't be useful for my analysis \n",
    "data_ts.drop(columns=['so2','o3','co','no2'], inplace=True)"
   ]
  },
  {
   "cell_type": "code",
   "execution_count": 31,
   "metadata": {},
   "outputs": [
    {
     "data": {
      "text/html": [
       "<div>\n",
       "<style scoped>\n",
       "    .dataframe tbody tr th:only-of-type {\n",
       "        vertical-align: middle;\n",
       "    }\n",
       "\n",
       "    .dataframe tbody tr th {\n",
       "        vertical-align: top;\n",
       "    }\n",
       "\n",
       "    .dataframe thead th {\n",
       "        text-align: right;\n",
       "    }\n",
       "</style>\n",
       "<table border=\"1\" class=\"dataframe\">\n",
       "  <thead>\n",
       "    <tr style=\"text-align: right;\">\n",
       "      <th></th>\n",
       "      <th>datetime</th>\n",
       "      <th>pm25</th>\n",
       "      <th>pm10</th>\n",
       "    </tr>\n",
       "  </thead>\n",
       "  <tbody>\n",
       "    <tr>\n",
       "      <th>65</th>\n",
       "      <td>2015-03-07</td>\n",
       "      <td>NaN</td>\n",
       "      <td>NaN</td>\n",
       "    </tr>\n",
       "    <tr>\n",
       "      <th>66</th>\n",
       "      <td>2015-03-08</td>\n",
       "      <td>NaN</td>\n",
       "      <td>NaN</td>\n",
       "    </tr>\n",
       "    <tr>\n",
       "      <th>67</th>\n",
       "      <td>2015-03-09</td>\n",
       "      <td>NaN</td>\n",
       "      <td>53.0</td>\n",
       "    </tr>\n",
       "    <tr>\n",
       "      <th>71</th>\n",
       "      <td>2015-03-13</td>\n",
       "      <td>NaN</td>\n",
       "      <td>NaN</td>\n",
       "    </tr>\n",
       "    <tr>\n",
       "      <th>72</th>\n",
       "      <td>2015-03-14</td>\n",
       "      <td>NaN</td>\n",
       "      <td>NaN</td>\n",
       "    </tr>\n",
       "  </tbody>\n",
       "</table>\n",
       "</div>"
      ],
      "text/plain": [
       "     datetime  pm25  pm10\n",
       "65 2015-03-07   NaN   NaN\n",
       "66 2015-03-08   NaN   NaN\n",
       "67 2015-03-09   NaN  53.0\n",
       "71 2015-03-13   NaN   NaN\n",
       "72 2015-03-14   NaN   NaN"
      ]
     },
     "execution_count": 31,
     "metadata": {},
     "output_type": "execute_result"
    }
   ],
   "source": [
    "# I'm looking for the columns with the missing values\n",
    "nan = data_ts[data_ts['pm25'].isna()]\n",
    "nan.head()"
   ]
  },
  {
   "cell_type": "code",
   "execution_count": 32,
   "metadata": {},
   "outputs": [],
   "source": [
    "#I will fill empty values with the mean for each month, to do that I create a new column year-month thanks to which I will be able to calaculate a mean value for each month of each year\n",
    "data_ts['year_month']=data_ts['datetime'].dt.to_period('M')"
   ]
  },
  {
   "cell_type": "code",
   "execution_count": 33,
   "metadata": {},
   "outputs": [
    {
     "data": {
      "text/html": [
       "<div>\n",
       "<style scoped>\n",
       "    .dataframe tbody tr th:only-of-type {\n",
       "        vertical-align: middle;\n",
       "    }\n",
       "\n",
       "    .dataframe tbody tr th {\n",
       "        vertical-align: top;\n",
       "    }\n",
       "\n",
       "    .dataframe thead th {\n",
       "        text-align: right;\n",
       "    }\n",
       "</style>\n",
       "<table border=\"1\" class=\"dataframe\">\n",
       "  <thead>\n",
       "    <tr style=\"text-align: right;\">\n",
       "      <th></th>\n",
       "      <th>pm25</th>\n",
       "      <th>pm10</th>\n",
       "    </tr>\n",
       "    <tr>\n",
       "      <th>year_month</th>\n",
       "      <th></th>\n",
       "      <th></th>\n",
       "    </tr>\n",
       "  </thead>\n",
       "  <tbody>\n",
       "    <tr>\n",
       "      <th>2015-01</th>\n",
       "      <td>63.645161</td>\n",
       "      <td>24.419355</td>\n",
       "    </tr>\n",
       "    <tr>\n",
       "      <th>2015-02</th>\n",
       "      <td>73.892857</td>\n",
       "      <td>31.642857</td>\n",
       "    </tr>\n",
       "    <tr>\n",
       "      <th>2015-03</th>\n",
       "      <td>76.954545</td>\n",
       "      <td>31.095238</td>\n",
       "    </tr>\n",
       "    <tr>\n",
       "      <th>2015-04</th>\n",
       "      <td>59.900000</td>\n",
       "      <td>29.266667</td>\n",
       "    </tr>\n",
       "    <tr>\n",
       "      <th>2015-05</th>\n",
       "      <td>59.296296</td>\n",
       "      <td>28.642857</td>\n",
       "    </tr>\n",
       "    <tr>\n",
       "      <th>...</th>\n",
       "      <td>...</td>\n",
       "      <td>...</td>\n",
       "    </tr>\n",
       "    <tr>\n",
       "      <th>2021-08</th>\n",
       "      <td>42.290323</td>\n",
       "      <td>30.161290</td>\n",
       "    </tr>\n",
       "    <tr>\n",
       "      <th>2021-09</th>\n",
       "      <td>41.033333</td>\n",
       "      <td>27.733333</td>\n",
       "    </tr>\n",
       "    <tr>\n",
       "      <th>2021-10</th>\n",
       "      <td>42.379310</td>\n",
       "      <td>26.931034</td>\n",
       "    </tr>\n",
       "    <tr>\n",
       "      <th>2021-11</th>\n",
       "      <td>46.500000</td>\n",
       "      <td>26.866667</td>\n",
       "    </tr>\n",
       "    <tr>\n",
       "      <th>2021-12</th>\n",
       "      <td>54.000000</td>\n",
       "      <td>29.903226</td>\n",
       "    </tr>\n",
       "  </tbody>\n",
       "</table>\n",
       "<p>84 rows × 2 columns</p>\n",
       "</div>"
      ],
      "text/plain": [
       "                 pm25       pm10\n",
       "year_month                      \n",
       "2015-01     63.645161  24.419355\n",
       "2015-02     73.892857  31.642857\n",
       "2015-03     76.954545  31.095238\n",
       "2015-04     59.900000  29.266667\n",
       "2015-05     59.296296  28.642857\n",
       "...               ...        ...\n",
       "2021-08     42.290323  30.161290\n",
       "2021-09     41.033333  27.733333\n",
       "2021-10     42.379310  26.931034\n",
       "2021-11     46.500000  26.866667\n",
       "2021-12     54.000000  29.903226\n",
       "\n",
       "[84 rows x 2 columns]"
      ]
     },
     "execution_count": 33,
     "metadata": {},
     "output_type": "execute_result"
    }
   ],
   "source": [
    "#Now I create new df with average values of all pollutants for each month\n",
    "avg_year_months = data_ts.groupby('year_month').agg('mean')\n",
    "avg_year_months"
   ]
  },
  {
   "cell_type": "code",
   "execution_count": 34,
   "metadata": {},
   "outputs": [
    {
     "data": {
      "text/plain": [
       "['pm25', 'pm10']"
      ]
     },
     "execution_count": 34,
     "metadata": {},
     "output_type": "execute_result"
    }
   ],
   "source": [
    "#I need a polutant list as I will iterate through them\n",
    "pollutants = avg_year_months.columns.tolist()\n",
    "pollutants"
   ]
  },
  {
   "cell_type": "code",
   "execution_count": 36,
   "metadata": {},
   "outputs": [],
   "source": [
    "# I am filling a missing values in data with average values of each pollutant in the same month and in the same year \n",
    "for i in range(len(pollutants)):\n",
    "\tfor year_month in data_ts.year_month.unique():\n",
    "\t\tmean = avg_year_months.loc[year_month][i]\n",
    "\t\tdata_ts.loc[data_ts.year_month==year_month, pollutants[i]] = data_ts.loc[data_ts.year_month==year_month, pollutants[i]].fillna(mean)"
   ]
  },
  {
   "cell_type": "code",
   "execution_count": 37,
   "metadata": {},
   "outputs": [
    {
     "data": {
      "text/plain": [
       "datetime       0\n",
       "pm25          61\n",
       "pm10          61\n",
       "year_month     0\n",
       "dtype: int64"
      ]
     },
     "execution_count": 37,
     "metadata": {},
     "output_type": "execute_result"
    }
   ],
   "source": [
    "# There are still missing values. From the earlier observation I could see that there are 3 months in 2017 (July, August and September) for which there are no measurements\n",
    "# I decided to fill these values with the mean of each day in 2016 and 2018, for example:\n",
    "# value for 1st of July 2017 will be filled with the mean of values recorded on 1st of July 2016 and 2018 \n",
    "data_ts.isna().sum()"
   ]
  },
  {
   "cell_type": "code",
   "execution_count": 38,
   "metadata": {},
   "outputs": [],
   "source": [
    "# I create additional columns to help me fill missing values\n",
    "data_ts['year']=data_ts['datetime'].dt.year\n",
    "data_ts['month_day'] = data_ts['datetime'].dt.strftime('%m-%d')"
   ]
  },
  {
   "cell_type": "code",
   "execution_count": null,
   "metadata": {},
   "outputs": [],
   "source": [
    "# I am taking values only for 2 years 2016 and 2018\n",
    "data16_18 = data_ts.loc[(data_ts['year']==2016) |(data_ts['year']==2018)]"
   ]
  },
  {
   "cell_type": "code",
   "execution_count": null,
   "metadata": {},
   "outputs": [
    {
     "data": {
      "text/html": [
       "<div>\n",
       "<style scoped>\n",
       "    .dataframe tbody tr th:only-of-type {\n",
       "        vertical-align: middle;\n",
       "    }\n",
       "\n",
       "    .dataframe tbody tr th {\n",
       "        vertical-align: top;\n",
       "    }\n",
       "\n",
       "    .dataframe thead th {\n",
       "        text-align: right;\n",
       "    }\n",
       "</style>\n",
       "<table border=\"1\" class=\"dataframe\">\n",
       "  <thead>\n",
       "    <tr style=\"text-align: right;\">\n",
       "      <th></th>\n",
       "      <th>pm25</th>\n",
       "      <th>pm10</th>\n",
       "      <th>o3</th>\n",
       "      <th>no2</th>\n",
       "      <th>year</th>\n",
       "    </tr>\n",
       "    <tr>\n",
       "      <th>month_day</th>\n",
       "      <th></th>\n",
       "      <th></th>\n",
       "      <th></th>\n",
       "      <th></th>\n",
       "      <th></th>\n",
       "    </tr>\n",
       "  </thead>\n",
       "  <tbody>\n",
       "    <tr>\n",
       "      <th>01-01</th>\n",
       "      <td>49.100000</td>\n",
       "      <td>24.5</td>\n",
       "      <td>21.000000</td>\n",
       "      <td>30.50</td>\n",
       "      <td>2017.0</td>\n",
       "    </tr>\n",
       "    <tr>\n",
       "      <th>01-02</th>\n",
       "      <td>49.000000</td>\n",
       "      <td>22.0</td>\n",
       "      <td>24.000000</td>\n",
       "      <td>26.00</td>\n",
       "      <td>2017.0</td>\n",
       "    </tr>\n",
       "    <tr>\n",
       "      <th>01-03</th>\n",
       "      <td>42.500000</td>\n",
       "      <td>24.0</td>\n",
       "      <td>21.000000</td>\n",
       "      <td>34.50</td>\n",
       "      <td>2017.0</td>\n",
       "    </tr>\n",
       "    <tr>\n",
       "      <th>01-04</th>\n",
       "      <td>42.000000</td>\n",
       "      <td>25.0</td>\n",
       "      <td>22.000000</td>\n",
       "      <td>39.00</td>\n",
       "      <td>2017.0</td>\n",
       "    </tr>\n",
       "    <tr>\n",
       "      <th>01-05</th>\n",
       "      <td>48.500000</td>\n",
       "      <td>29.0</td>\n",
       "      <td>17.000000</td>\n",
       "      <td>40.50</td>\n",
       "      <td>2017.0</td>\n",
       "    </tr>\n",
       "    <tr>\n",
       "      <th>...</th>\n",
       "      <td>...</td>\n",
       "      <td>...</td>\n",
       "      <td>...</td>\n",
       "      <td>...</td>\n",
       "      <td>...</td>\n",
       "    </tr>\n",
       "    <tr>\n",
       "      <th>12-27</th>\n",
       "      <td>97.500000</td>\n",
       "      <td>49.5</td>\n",
       "      <td>5.500000</td>\n",
       "      <td>42.00</td>\n",
       "      <td>2017.0</td>\n",
       "    </tr>\n",
       "    <tr>\n",
       "      <th>12-28</th>\n",
       "      <td>95.000000</td>\n",
       "      <td>53.5</td>\n",
       "      <td>4.500000</td>\n",
       "      <td>40.00</td>\n",
       "      <td>2017.0</td>\n",
       "    </tr>\n",
       "    <tr>\n",
       "      <th>12-29</th>\n",
       "      <td>106.000000</td>\n",
       "      <td>47.0</td>\n",
       "      <td>7.500000</td>\n",
       "      <td>41.50</td>\n",
       "      <td>2017.0</td>\n",
       "    </tr>\n",
       "    <tr>\n",
       "      <th>12-30</th>\n",
       "      <td>111.000000</td>\n",
       "      <td>40.8</td>\n",
       "      <td>8.689655</td>\n",
       "      <td>34.05</td>\n",
       "      <td>2017.0</td>\n",
       "    </tr>\n",
       "    <tr>\n",
       "      <th>12-31</th>\n",
       "      <td>84.516667</td>\n",
       "      <td>30.5</td>\n",
       "      <td>12.500000</td>\n",
       "      <td>32.00</td>\n",
       "      <td>2017.0</td>\n",
       "    </tr>\n",
       "  </tbody>\n",
       "</table>\n",
       "<p>366 rows × 5 columns</p>\n",
       "</div>"
      ],
      "text/plain": [
       "                 pm25  pm10         o3    no2    year\n",
       "month_day                                            \n",
       "01-01       49.100000  24.5  21.000000  30.50  2017.0\n",
       "01-02       49.000000  22.0  24.000000  26.00  2017.0\n",
       "01-03       42.500000  24.0  21.000000  34.50  2017.0\n",
       "01-04       42.000000  25.0  22.000000  39.00  2017.0\n",
       "01-05       48.500000  29.0  17.000000  40.50  2017.0\n",
       "...               ...   ...        ...    ...     ...\n",
       "12-27       97.500000  49.5   5.500000  42.00  2017.0\n",
       "12-28       95.000000  53.5   4.500000  40.00  2017.0\n",
       "12-29      106.000000  47.0   7.500000  41.50  2017.0\n",
       "12-30      111.000000  40.8   8.689655  34.05  2017.0\n",
       "12-31       84.516667  30.5  12.500000  32.00  2017.0\n",
       "\n",
       "[366 rows x 5 columns]"
      ]
     },
     "execution_count": 60,
     "metadata": {},
     "output_type": "execute_result"
    }
   ],
   "source": [
    "# I am creating a means for each month and day from values recorded in 2016 and 2018\n",
    "averge_for_days = paris16_18.groupby('month_day').agg('mean')\n",
    "averge_for_days"
   ]
  },
  {
   "cell_type": "code",
   "execution_count": null,
   "metadata": {},
   "outputs": [],
   "source": [
    "# Now I can fill missing values thanks to the df above and the pollutant list\n",
    "for i in range(len(pollutants)):\n",
    "\tfor month_day in paris_ts.month_day.unique():\n",
    "\t\tmean = averge_for_days.loc[month_day][i]\n",
    "\t\tparis_ts.loc[(paris_ts.month_day==month_day) & (paris_ts.year==2017), pollutants[i]] = paris_ts.loc[(paris_ts.month_day==month_day) & (paris_ts.year==2017), pollutants[i]].fillna(mean)"
   ]
  },
  {
   "cell_type": "code",
   "execution_count": null,
   "metadata": {},
   "outputs": [
    {
     "data": {
      "text/plain": [
       "datetime      0\n",
       "pm25          0\n",
       "pm10          0\n",
       "o3            0\n",
       "no2           0\n",
       "year_month    0\n",
       "year          0\n",
       "month_day     0\n",
       "dtype: int64"
      ]
     },
     "execution_count": 62,
     "metadata": {},
     "output_type": "execute_result"
    }
   ],
   "source": [
    "# It looks like I was able to fill all of the missing values\n",
    "paris_ts.isna().sum()"
   ]
  },
  {
   "cell_type": "code",
   "execution_count": null,
   "metadata": {},
   "outputs": [
    {
     "data": {
      "text/html": [
       "<div>\n",
       "<style scoped>\n",
       "    .dataframe tbody tr th:only-of-type {\n",
       "        vertical-align: middle;\n",
       "    }\n",
       "\n",
       "    .dataframe tbody tr th {\n",
       "        vertical-align: top;\n",
       "    }\n",
       "\n",
       "    .dataframe thead th {\n",
       "        text-align: right;\n",
       "    }\n",
       "</style>\n",
       "<table border=\"1\" class=\"dataframe\">\n",
       "  <thead>\n",
       "    <tr style=\"text-align: right;\">\n",
       "      <th></th>\n",
       "      <th>datetime</th>\n",
       "      <th>pm25</th>\n",
       "      <th>pm10</th>\n",
       "      <th>o3</th>\n",
       "      <th>no2</th>\n",
       "      <th>year_month</th>\n",
       "      <th>year</th>\n",
       "      <th>month_day</th>\n",
       "    </tr>\n",
       "  </thead>\n",
       "  <tbody>\n",
       "    <tr>\n",
       "      <th>181</th>\n",
       "      <td>2014-07-01</td>\n",
       "      <td>62.0</td>\n",
       "      <td>40.0</td>\n",
       "      <td>42.0</td>\n",
       "      <td>59.0</td>\n",
       "      <td>2014-07</td>\n",
       "      <td>2014</td>\n",
       "      <td>07-01</td>\n",
       "    </tr>\n",
       "    <tr>\n",
       "      <th>546</th>\n",
       "      <td>2015-07-01</td>\n",
       "      <td>81.0</td>\n",
       "      <td>56.0</td>\n",
       "      <td>44.0</td>\n",
       "      <td>57.0</td>\n",
       "      <td>2015-07</td>\n",
       "      <td>2015</td>\n",
       "      <td>07-01</td>\n",
       "    </tr>\n",
       "    <tr>\n",
       "      <th>912</th>\n",
       "      <td>2016-07-01</td>\n",
       "      <td>35.0</td>\n",
       "      <td>24.0</td>\n",
       "      <td>22.0</td>\n",
       "      <td>27.0</td>\n",
       "      <td>2016-07</td>\n",
       "      <td>2016</td>\n",
       "      <td>07-01</td>\n",
       "    </tr>\n",
       "    <tr>\n",
       "      <th>1277</th>\n",
       "      <td>2017-07-01</td>\n",
       "      <td>51.5</td>\n",
       "      <td>37.5</td>\n",
       "      <td>39.0</td>\n",
       "      <td>43.5</td>\n",
       "      <td>2017-07</td>\n",
       "      <td>2017</td>\n",
       "      <td>07-01</td>\n",
       "    </tr>\n",
       "    <tr>\n",
       "      <th>1642</th>\n",
       "      <td>2018-07-01</td>\n",
       "      <td>68.0</td>\n",
       "      <td>51.0</td>\n",
       "      <td>56.0</td>\n",
       "      <td>60.0</td>\n",
       "      <td>2018-07</td>\n",
       "      <td>2018</td>\n",
       "      <td>07-01</td>\n",
       "    </tr>\n",
       "    <tr>\n",
       "      <th>2007</th>\n",
       "      <td>2019-07-01</td>\n",
       "      <td>44.0</td>\n",
       "      <td>39.0</td>\n",
       "      <td>38.0</td>\n",
       "      <td>35.0</td>\n",
       "      <td>2019-07</td>\n",
       "      <td>2019</td>\n",
       "      <td>07-01</td>\n",
       "    </tr>\n",
       "    <tr>\n",
       "      <th>2373</th>\n",
       "      <td>2020-07-01</td>\n",
       "      <td>36.0</td>\n",
       "      <td>17.0</td>\n",
       "      <td>23.0</td>\n",
       "      <td>23.0</td>\n",
       "      <td>2020-07</td>\n",
       "      <td>2020</td>\n",
       "      <td>07-01</td>\n",
       "    </tr>\n",
       "    <tr>\n",
       "      <th>2738</th>\n",
       "      <td>2021-07-01</td>\n",
       "      <td>53.0</td>\n",
       "      <td>37.0</td>\n",
       "      <td>37.0</td>\n",
       "      <td>38.0</td>\n",
       "      <td>2021-07</td>\n",
       "      <td>2021</td>\n",
       "      <td>07-01</td>\n",
       "    </tr>\n",
       "  </tbody>\n",
       "</table>\n",
       "</div>"
      ],
      "text/plain": [
       "       datetime  pm25  pm10    o3   no2 year_month  year month_day\n",
       "181  2014-07-01  62.0  40.0  42.0  59.0    2014-07  2014     07-01\n",
       "546  2015-07-01  81.0  56.0  44.0  57.0    2015-07  2015     07-01\n",
       "912  2016-07-01  35.0  24.0  22.0  27.0    2016-07  2016     07-01\n",
       "1277 2017-07-01  51.5  37.5  39.0  43.5    2017-07  2017     07-01\n",
       "1642 2018-07-01  68.0  51.0  56.0  60.0    2018-07  2018     07-01\n",
       "2007 2019-07-01  44.0  39.0  38.0  35.0    2019-07  2019     07-01\n",
       "2373 2020-07-01  36.0  17.0  23.0  23.0    2020-07  2020     07-01\n",
       "2738 2021-07-01  53.0  37.0  37.0  38.0    2021-07  2021     07-01"
      ]
     },
     "execution_count": 63,
     "metadata": {},
     "output_type": "execute_result"
    }
   ],
   "source": [
    "#I'm checking if the values were filled correctly --> They were :)\n",
    "paris_ts[paris_ts.month_day=='07-01']"
   ]
  },
  {
   "cell_type": "code",
   "execution_count": null,
   "metadata": {},
   "outputs": [],
   "source": [
    "# I am dropping the columns which I won't need anymore and which were used only to fill missing values\n",
    "paris_ts.drop(columns=['year_month', 'year', 'month_day'], inplace=True)"
   ]
  },
  {
   "cell_type": "markdown",
   "metadata": {},
   "source": [
    "Outliers"
   ]
  },
  {
   "cell_type": "code",
   "execution_count": null,
   "metadata": {},
   "outputs": [
    {
     "data": {
      "image/png": "[encoded data removed]",
      "text/plain": [
       "<Figure size 432x288 with 1 Axes>"
      ]
     },
     "metadata": {},
     "output_type": "display_data"
    }
   ],
   "source": [
    "# I am checking for the outliers by plooting box plot\n",
    "sns.set_palette(\"Blues_d\")\n",
    "sns.set_style('darkgrid')\n",
    "sns.boxplot(data=paris_ts)\n",
    "plt.title('Box plot\\nfor\\nAir Pollutants', fontweight='bold')\n",
    "plt.ylabel('Concentration', fontweight='bold')\n",
    "plt.xlabel('Pollutant', fontweight='bold')\n",
    "plt.show()"
   ]
  },
  {
   "cell_type": "code",
   "execution_count": null,
   "metadata": {},
   "outputs": [
    {
     "data": {
      "text/html": [
       "<div>\n",
       "<style scoped>\n",
       "    .dataframe tbody tr th:only-of-type {\n",
       "        vertical-align: middle;\n",
       "    }\n",
       "\n",
       "    .dataframe tbody tr th {\n",
       "        vertical-align: top;\n",
       "    }\n",
       "\n",
       "    .dataframe thead th {\n",
       "        text-align: right;\n",
       "    }\n",
       "</style>\n",
       "<table border=\"1\" class=\"dataframe\">\n",
       "  <thead>\n",
       "    <tr style=\"text-align: right;\">\n",
       "      <th></th>\n",
       "      <th>pm25</th>\n",
       "      <th>pm10</th>\n",
       "      <th>o3</th>\n",
       "      <th>no2</th>\n",
       "    </tr>\n",
       "  </thead>\n",
       "  <tbody>\n",
       "    <tr>\n",
       "      <th>count</th>\n",
       "      <td>2922.000000</td>\n",
       "      <td>2922.000000</td>\n",
       "      <td>2922.000000</td>\n",
       "      <td>2922.000000</td>\n",
       "    </tr>\n",
       "    <tr>\n",
       "      <th>mean</th>\n",
       "      <td>63.779860</td>\n",
       "      <td>37.313246</td>\n",
       "      <td>24.908479</td>\n",
       "      <td>38.463754</td>\n",
       "    </tr>\n",
       "    <tr>\n",
       "      <th>std</th>\n",
       "      <td>22.347357</td>\n",
       "      <td>14.415868</td>\n",
       "      <td>11.732745</td>\n",
       "      <td>13.013070</td>\n",
       "    </tr>\n",
       "    <tr>\n",
       "      <th>min</th>\n",
       "      <td>15.000000</td>\n",
       "      <td>6.000000</td>\n",
       "      <td>1.000000</td>\n",
       "      <td>4.000000</td>\n",
       "    </tr>\n",
       "    <tr>\n",
       "      <th>25%</th>\n",
       "      <td>48.000000</td>\n",
       "      <td>27.000000</td>\n",
       "      <td>17.000000</td>\n",
       "      <td>30.000000</td>\n",
       "    </tr>\n",
       "    <tr>\n",
       "      <th>50%</th>\n",
       "      <td>60.000000</td>\n",
       "      <td>35.000000</td>\n",
       "      <td>24.000000</td>\n",
       "      <td>39.000000</td>\n",
       "    </tr>\n",
       "    <tr>\n",
       "      <th>75%</th>\n",
       "      <td>74.000000</td>\n",
       "      <td>46.000000</td>\n",
       "      <td>31.000000</td>\n",
       "      <td>47.000000</td>\n",
       "    </tr>\n",
       "    <tr>\n",
       "      <th>max</th>\n",
       "      <td>177.000000</td>\n",
       "      <td>122.000000</td>\n",
       "      <td>85.000000</td>\n",
       "      <td>89.000000</td>\n",
       "    </tr>\n",
       "  </tbody>\n",
       "</table>\n",
       "</div>"
      ],
      "text/plain": [
       "              pm25         pm10           o3          no2\n",
       "count  2922.000000  2922.000000  2922.000000  2922.000000\n",
       "mean     63.779860    37.313246    24.908479    38.463754\n",
       "std      22.347357    14.415868    11.732745    13.013070\n",
       "min      15.000000     6.000000     1.000000     4.000000\n",
       "25%      48.000000    27.000000    17.000000    30.000000\n",
       "50%      60.000000    35.000000    24.000000    39.000000\n",
       "75%      74.000000    46.000000    31.000000    47.000000\n",
       "max     177.000000   122.000000    85.000000    89.000000"
      ]
     },
     "execution_count": 67,
     "metadata": {},
     "output_type": "execute_result"
    }
   ],
   "source": [
    "paris_ts.describe()"
   ]
  },
  {
   "cell_type": "markdown",
   "metadata": {},
   "source": [
    "Saving file for further analysis "
   ]
  },
  {
   "cell_type": "code",
   "execution_count": null,
   "metadata": {},
   "outputs": [],
   "source": [
    "paris_ts.to_csv(r'C:\\Users\\radek\\Git-Hub\\Final_Project_Ironhack\\05 - Time Series\\Paris_clean_for_ts.csv', index_label=False)"
   ]
  }
 ],
 "metadata": {
  "interpreter": {
   "hash": "4ad77c0e6c5017b8cf10e15e7abcf3f93295efc1a703ed33be6cc92cf9d70fb6"
  },
  "kernelspec": {
   "display_name": "Python 3.8.12 ('base')",
   "language": "python",
   "name": "python3"
  },
  "language_info": {
   "codemirror_mode": {
    "name": "ipython",
    "version": 3
   },
   "file_extension": ".py",
   "mimetype": "text/x-python",
   "name": "python",
   "nbconvert_exporter": "python",
   "pygments_lexer": "ipython3",
   "version": "3.8.12"
  },
  "orig_nbformat": 4
 },
 "nbformat": 4,
 "nbformat_minor": 2
}
