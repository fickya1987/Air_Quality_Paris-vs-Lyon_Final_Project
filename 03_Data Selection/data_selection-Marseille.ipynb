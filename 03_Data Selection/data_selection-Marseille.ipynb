{
 "cells": [
  {
   "cell_type": "code",
   "execution_count": 1,
   "metadata": {},
   "outputs": [],
   "source": [
    "import pandas as pd \n",
    "import numpy as np \n",
    "import sys\n",
    "\n",
    "sys.path.append(r\"C:\\Users\\radek\\Git-Hub\\Final_Project_Ironhack\\00 - Utils\")\n",
    "import db_utils as db"
   ]
  },
  {
   "cell_type": "code",
   "execution_count": 21,
   "metadata": {},
   "outputs": [],
   "source": [
    "sql= '''SELECT \n",
    "* \n",
    "FROM weather_tmp w\n",
    "LEFT JOIN airquality_tmp_v2 a\n",
    "ON w.datetime = a.Date AND w.address = a.City\n",
    "WHERE w.address='Marseille';'''"
   ]
  },
  {
   "cell_type": "code",
   "execution_count": 22,
   "metadata": {},
   "outputs": [],
   "source": [
    "marseille = pd.read_sql(sql, db.engine)"
   ]
  },
  {
   "cell_type": "code",
   "execution_count": 23,
   "metadata": {},
   "outputs": [
    {
     "data": {
      "text/html": [
       "<div>\n",
       "<style scoped>\n",
       "    .dataframe tbody tr th:only-of-type {\n",
       "        vertical-align: middle;\n",
       "    }\n",
       "\n",
       "    .dataframe tbody tr th {\n",
       "        vertical-align: top;\n",
       "    }\n",
       "\n",
       "    .dataframe thead th {\n",
       "        text-align: right;\n",
       "    }\n",
       "</style>\n",
       "<table border=\"1\" class=\"dataframe\">\n",
       "  <thead>\n",
       "    <tr style=\"text-align: right;\">\n",
       "      <th></th>\n",
       "      <th>latitude</th>\n",
       "      <th>longitude</th>\n",
       "      <th>address</th>\n",
       "      <th>datetime</th>\n",
       "      <th>datetimeEpoch</th>\n",
       "      <th>tempmax</th>\n",
       "      <th>tempmin</th>\n",
       "      <th>temp</th>\n",
       "      <th>humidity</th>\n",
       "      <th>precip</th>\n",
       "      <th>...</th>\n",
       "      <th>conditions</th>\n",
       "      <th>description</th>\n",
       "      <th>date</th>\n",
       "      <th>pm25</th>\n",
       "      <th>pm10</th>\n",
       "      <th>o3</th>\n",
       "      <th>no2</th>\n",
       "      <th>so2</th>\n",
       "      <th>co</th>\n",
       "      <th>City</th>\n",
       "    </tr>\n",
       "  </thead>\n",
       "  <tbody>\n",
       "    <tr>\n",
       "      <th>0</th>\n",
       "      <td>43.2934</td>\n",
       "      <td>5.37132</td>\n",
       "      <td>Marseille</td>\n",
       "      <td>2015-01-01</td>\n",
       "      <td>1420066800</td>\n",
       "      <td>9.2</td>\n",
       "      <td>0.1</td>\n",
       "      <td>4.2</td>\n",
       "      <td>72.63</td>\n",
       "      <td>0.2</td>\n",
       "      <td>...</td>\n",
       "      <td>Rain, Partially cloudy</td>\n",
       "      <td>Clearing in the afternoon with early morning r...</td>\n",
       "      <td>2015-01-01</td>\n",
       "      <td>108.0</td>\n",
       "      <td>32.0</td>\n",
       "      <td>NaN</td>\n",
       "      <td>NaN</td>\n",
       "      <td>NaN</td>\n",
       "      <td>None</td>\n",
       "      <td>Marseille</td>\n",
       "    </tr>\n",
       "    <tr>\n",
       "      <th>1</th>\n",
       "      <td>43.2934</td>\n",
       "      <td>5.37132</td>\n",
       "      <td>Marseille</td>\n",
       "      <td>2015-01-02</td>\n",
       "      <td>1420153200</td>\n",
       "      <td>12.9</td>\n",
       "      <td>-1.3</td>\n",
       "      <td>6.1</td>\n",
       "      <td>63.60</td>\n",
       "      <td>0.2</td>\n",
       "      <td>...</td>\n",
       "      <td>Rain</td>\n",
       "      <td>Clear conditions throughout the day with after...</td>\n",
       "      <td>2015-01-02</td>\n",
       "      <td>83.0</td>\n",
       "      <td>14.0</td>\n",
       "      <td>NaN</td>\n",
       "      <td>NaN</td>\n",
       "      <td>NaN</td>\n",
       "      <td>None</td>\n",
       "      <td>Marseille</td>\n",
       "    </tr>\n",
       "  </tbody>\n",
       "</table>\n",
       "<p>2 rows × 31 columns</p>\n",
       "</div>"
      ],
      "text/plain": [
       "   latitude  longitude    address   datetime  datetimeEpoch  tempmax  tempmin  \\\n",
       "0   43.2934    5.37132  Marseille 2015-01-01     1420066800      9.2      0.1   \n",
       "1   43.2934    5.37132  Marseille 2015-01-02     1420153200     12.9     -1.3   \n",
       "\n",
       "   temp  humidity  precip  ...              conditions  \\\n",
       "0   4.2     72.63     0.2  ...  Rain, Partially cloudy   \n",
       "1   6.1     63.60     0.2  ...                    Rain   \n",
       "\n",
       "                                         description       date   pm25  pm10  \\\n",
       "0  Clearing in the afternoon with early morning r... 2015-01-01  108.0  32.0   \n",
       "1  Clear conditions throughout the day with after... 2015-01-02   83.0  14.0   \n",
       "\n",
       "   o3  no2  so2    co       City  \n",
       "0 NaN  NaN  NaN  None  Marseille  \n",
       "1 NaN  NaN  NaN  None  Marseille  \n",
       "\n",
       "[2 rows x 31 columns]"
      ]
     },
     "execution_count": 23,
     "metadata": {},
     "output_type": "execute_result"
    }
   ],
   "source": [
    "marseille.head(2)"
   ]
  },
  {
   "cell_type": "code",
   "execution_count": 20,
   "metadata": {},
   "outputs": [],
   "source": [
    "marseille.to_csv(r'C:\\Users\\radek\\Git-Hub\\Final_Project_Ironhack\\04 - Data Cleaning\\Marseille.csv', index_label=False)\n"
   ]
  },
  {
   "cell_type": "code",
   "execution_count": null,
   "metadata": {},
   "outputs": [],
   "source": []
  }
 ],
 "metadata": {
  "interpreter": {
   "hash": "4ad77c0e6c5017b8cf10e15e7abcf3f93295efc1a703ed33be6cc92cf9d70fb6"
  },
  "kernelspec": {
   "display_name": "Python 3.8.12 ('base')",
   "language": "python",
   "name": "python3"
  },
  "language_info": {
   "codemirror_mode": {
    "name": "ipython",
    "version": 3
   },
   "file_extension": ".py",
   "mimetype": "text/x-python",
   "name": "python",
   "nbconvert_exporter": "python",
   "pygments_lexer": "ipython3",
   "version": "3.8.12"
  },
  "orig_nbformat": 4
 },
 "nbformat": 4,
 "nbformat_minor": 2
}
