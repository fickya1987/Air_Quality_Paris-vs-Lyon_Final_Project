{
 "cells": [
  {
   "cell_type": "code",
   "execution_count": 1,
   "metadata": {},
   "outputs": [
    {
     "name": "stderr",
     "output_type": "stream",
     "text": [
      "C:\\Users\\radek\\anaconda3\\lib\\site-packages\\tpot\\builtins\\__init__.py:36: UserWarning: Warning: optional dependency `torch` is not available. - skipping import of NN models.\n",
      "  warnings.warn(\"Warning: optional dependency `torch` is not available. - skipping import of NN models.\")\n"
     ]
    }
   ],
   "source": [
    "import pandas as pd \n",
    "import numpy as np \n",
    "import seaborn as sns\n",
    "import matplotlib.pyplot as plt\n",
    "\n",
    "# Features seletcion\n",
    "from sklearn.feature_selection import SelectFromModel\n",
    "from sklearn.feature_selection import RFE\n",
    "from sklearn.feature_selection import RFECV\n",
    "\n",
    "# Train/test split\n",
    "from sklearn.model_selection import train_test_split\n",
    "\n",
    "# Models Supervised Learning\n",
    "from sklearn.ensemble import RandomForestClassifier\n",
    "from imblearn.ensemble import BalancedRandomForestClassifier\n",
    "from sklearn.linear_model import LogisticRegression\n",
    "from sklearn.ensemble import IsolationForest\n",
    "\n",
    "# Models Unsupervised Learning\n",
    "from sklearn.cluster import KMeans\n",
    "from sklearn.cluster import AgglomerativeClustering\n",
    "from sklearn.cluster import DBSCAN\n",
    "\n",
    "\n",
    "# Standard Scaller\n",
    "from sklearn.preprocessing import StandardScaler\n",
    "\n",
    "# Hyperparameters Tunning\n",
    "from sklearn.model_selection import GridSearchCV, RandomizedSearchCV\n",
    "\n",
    "# Models evaluation\n",
    "from sklearn.metrics import accuracy_score, balanced_accuracy_score, confusion_matrix, roc_curve, roc_auc_score, recall_score, precision_score, auc, RocCurveDisplay\n",
    "from sklearn.metrics import f1_score, classification_report\n",
    "\n",
    "from sklearn.metrics import silhouette_score, calinski_harabasz_score, adjusted_mutual_info_score, completeness_score, homogeneity_score, adjusted_rand_score, fowlkes_mallows_score\n",
    "\n",
    "# TPOT\n",
    "import tpot\n",
    "from tpot import TPOTClassifier\n",
    "\n",
    "# Yellowbirck\n",
    "from yellowbrick.cluster import KElbowVisualizer\n",
    "\n",
    "#TPOT results:\n",
    "from tpot.builtins import StackingEstimator\n",
    "from sklearn.pipeline import make_pipeline, make_union\n",
    "from sklearn.naive_bayes import GaussianNB\n",
    "from sklearn.ensemble import ExtraTreesClassifier\n",
    "from tpot.builtins import StackingEstimator\n",
    "from xgboost import XGBClassifier"
   ]
  },
  {
   "cell_type": "markdown",
   "metadata": {},
   "source": [
    "For Machine Learning Part of the project :\n",
    "I will test models:\n",
    "- Logistic Regresion,\n",
    "- Random forest Classifier. \n",
    "- Balanced Random Frest Classifier (since my 3 classes are really not ballanced).\n",
    "\n",
    "Then I will apply tpot to see if there is another model/pipeline to be proposed."
   ]
  },
  {
   "cell_type": "code",
   "execution_count": 2,
   "metadata": {},
   "outputs": [],
   "source": [
    "lyon_ml = pd.read_csv(r'C:\\Users\\radek\\Git-Hub\\Final_Project_Ironhack\\06 - ML\\lyon_ready_for_ml.csv')"
   ]
  },
  {
   "cell_type": "code",
   "execution_count": 3,
   "metadata": {},
   "outputs": [
    {
     "data": {
      "text/html": [
       "<div>\n",
       "<style scoped>\n",
       "    .dataframe tbody tr th:only-of-type {\n",
       "        vertical-align: middle;\n",
       "    }\n",
       "\n",
       "    .dataframe tbody tr th {\n",
       "        vertical-align: top;\n",
       "    }\n",
       "\n",
       "    .dataframe thead th {\n",
       "        text-align: right;\n",
       "    }\n",
       "</style>\n",
       "<table border=\"1\" class=\"dataframe\">\n",
       "  <thead>\n",
       "    <tr style=\"text-align: right;\">\n",
       "      <th></th>\n",
       "      <th>temp</th>\n",
       "      <th>humidity</th>\n",
       "      <th>precip</th>\n",
       "      <th>windspeed</th>\n",
       "      <th>pressure</th>\n",
       "      <th>cloudcover</th>\n",
       "      <th>visibility</th>\n",
       "      <th>uvindex</th>\n",
       "      <th>pm25</th>\n",
       "      <th>pm10</th>\n",
       "      <th>o3</th>\n",
       "      <th>no2</th>\n",
       "      <th>Clear</th>\n",
       "      <th>Partially cloudy</th>\n",
       "      <th>Rain</th>\n",
       "      <th>Snow</th>\n",
       "      <th>Overcast</th>\n",
       "      <th>month</th>\n",
       "      <th>day_of_week</th>\n",
       "      <th>target</th>\n",
       "    </tr>\n",
       "  </thead>\n",
       "  <tbody>\n",
       "    <tr>\n",
       "      <th>0</th>\n",
       "      <td>9.8</td>\n",
       "      <td>68.37</td>\n",
       "      <td>0.33</td>\n",
       "      <td>42.0</td>\n",
       "      <td>1014.5</td>\n",
       "      <td>70.2</td>\n",
       "      <td>55.1</td>\n",
       "      <td>0.0</td>\n",
       "      <td>26.0</td>\n",
       "      <td>10.0</td>\n",
       "      <td>23.0</td>\n",
       "      <td>14.0</td>\n",
       "      <td>0</td>\n",
       "      <td>1</td>\n",
       "      <td>1</td>\n",
       "      <td>0</td>\n",
       "      <td>0</td>\n",
       "      <td>1</td>\n",
       "      <td>2</td>\n",
       "      <td>0</td>\n",
       "    </tr>\n",
       "    <tr>\n",
       "      <th>1</th>\n",
       "      <td>10.5</td>\n",
       "      <td>78.29</td>\n",
       "      <td>11.94</td>\n",
       "      <td>35.5</td>\n",
       "      <td>1010.2</td>\n",
       "      <td>59.2</td>\n",
       "      <td>46.5</td>\n",
       "      <td>0.0</td>\n",
       "      <td>31.0</td>\n",
       "      <td>11.0</td>\n",
       "      <td>10.0</td>\n",
       "      <td>15.0</td>\n",
       "      <td>0</td>\n",
       "      <td>1</td>\n",
       "      <td>1</td>\n",
       "      <td>0</td>\n",
       "      <td>0</td>\n",
       "      <td>1</td>\n",
       "      <td>3</td>\n",
       "      <td>0</td>\n",
       "    </tr>\n",
       "    <tr>\n",
       "      <th>2</th>\n",
       "      <td>10.0</td>\n",
       "      <td>86.57</td>\n",
       "      <td>15.77</td>\n",
       "      <td>25.4</td>\n",
       "      <td>1015.3</td>\n",
       "      <td>88.8</td>\n",
       "      <td>30.3</td>\n",
       "      <td>0.0</td>\n",
       "      <td>36.0</td>\n",
       "      <td>7.0</td>\n",
       "      <td>15.0</td>\n",
       "      <td>11.0</td>\n",
       "      <td>0</td>\n",
       "      <td>1</td>\n",
       "      <td>1</td>\n",
       "      <td>0</td>\n",
       "      <td>0</td>\n",
       "      <td>1</td>\n",
       "      <td>4</td>\n",
       "      <td>0</td>\n",
       "    </tr>\n",
       "    <tr>\n",
       "      <th>3</th>\n",
       "      <td>9.5</td>\n",
       "      <td>86.54</td>\n",
       "      <td>19.85</td>\n",
       "      <td>31.4</td>\n",
       "      <td>1007.3</td>\n",
       "      <td>88.4</td>\n",
       "      <td>33.2</td>\n",
       "      <td>0.0</td>\n",
       "      <td>23.0</td>\n",
       "      <td>10.0</td>\n",
       "      <td>20.0</td>\n",
       "      <td>15.0</td>\n",
       "      <td>0</td>\n",
       "      <td>1</td>\n",
       "      <td>1</td>\n",
       "      <td>0</td>\n",
       "      <td>0</td>\n",
       "      <td>1</td>\n",
       "      <td>5</td>\n",
       "      <td>0</td>\n",
       "    </tr>\n",
       "    <tr>\n",
       "      <th>4</th>\n",
       "      <td>5.3</td>\n",
       "      <td>83.87</td>\n",
       "      <td>14.64</td>\n",
       "      <td>14.3</td>\n",
       "      <td>1014.0</td>\n",
       "      <td>69.0</td>\n",
       "      <td>29.0</td>\n",
       "      <td>0.0</td>\n",
       "      <td>33.0</td>\n",
       "      <td>15.0</td>\n",
       "      <td>17.0</td>\n",
       "      <td>16.0</td>\n",
       "      <td>0</td>\n",
       "      <td>1</td>\n",
       "      <td>1</td>\n",
       "      <td>0</td>\n",
       "      <td>0</td>\n",
       "      <td>1</td>\n",
       "      <td>6</td>\n",
       "      <td>0</td>\n",
       "    </tr>\n",
       "  </tbody>\n",
       "</table>\n",
       "</div>"
      ],
      "text/plain": [
       "   temp  humidity  precip  windspeed  pressure  cloudcover  visibility  \\\n",
       "0   9.8     68.37    0.33       42.0    1014.5        70.2        55.1   \n",
       "1  10.5     78.29   11.94       35.5    1010.2        59.2        46.5   \n",
       "2  10.0     86.57   15.77       25.4    1015.3        88.8        30.3   \n",
       "3   9.5     86.54   19.85       31.4    1007.3        88.4        33.2   \n",
       "4   5.3     83.87   14.64       14.3    1014.0        69.0        29.0   \n",
       "\n",
       "   uvindex  pm25  pm10    o3   no2  Clear  Partially cloudy  Rain  Snow  \\\n",
       "0      0.0  26.0  10.0  23.0  14.0      0                 1     1     0   \n",
       "1      0.0  31.0  11.0  10.0  15.0      0                 1     1     0   \n",
       "2      0.0  36.0   7.0  15.0  11.0      0                 1     1     0   \n",
       "3      0.0  23.0  10.0  20.0  15.0      0                 1     1     0   \n",
       "4      0.0  33.0  15.0  17.0  16.0      0                 1     1     0   \n",
       "\n",
       "   Overcast  month  day_of_week  target  \n",
       "0         0      1            2       0  \n",
       "1         0      1            3       0  \n",
       "2         0      1            4       0  \n",
       "3         0      1            5       0  \n",
       "4         0      1            6       0  "
      ]
     },
     "execution_count": 3,
     "metadata": {},
     "output_type": "execute_result"
    }
   ],
   "source": [
    "lyon_ml.head()"
   ]
  },
  {
   "cell_type": "code",
   "execution_count": 4,
   "metadata": {},
   "outputs": [
    {
     "data": {
      "text/plain": [
       "(2922, 20)"
      ]
     },
     "execution_count": 4,
     "metadata": {},
     "output_type": "execute_result"
    }
   ],
   "source": [
    "lyon_ml.shape"
   ]
  },
  {
   "cell_type": "code",
   "execution_count": 5,
   "metadata": {},
   "outputs": [],
   "source": [
    "# I can drop columns with the pollutants as I want for the model to indirectly predict them\n",
    "lyon_ml.drop(columns=['pm25', 'pm10', 'o3', 'no2'], inplace=True)"
   ]
  },
  {
   "cell_type": "code",
   "execution_count": 6,
   "metadata": {},
   "outputs": [
    {
     "data": {
      "text/plain": [
       "(2922, 16)"
      ]
     },
     "execution_count": 6,
     "metadata": {},
     "output_type": "execute_result"
    }
   ],
   "source": [
    "lyon_ml.shape"
   ]
  },
  {
   "cell_type": "markdown",
   "metadata": {},
   "source": [
    "#### Separation of data into X and y "
   ]
  },
  {
   "cell_type": "code",
   "execution_count": 7,
   "metadata": {},
   "outputs": [],
   "source": [
    "X = lyon_ml.drop(columns='target')\n",
    "y =lyon_ml['target']"
   ]
  },
  {
   "cell_type": "code",
   "execution_count": 8,
   "metadata": {},
   "outputs": [],
   "source": [
    "# I will standarize the data as I am planning on using the Logistic Regression as well\n",
    "sc = StandardScaler()\n",
    "X_stand = sc.fit_transform(X)"
   ]
  },
  {
   "cell_type": "code",
   "execution_count": 9,
   "metadata": {},
   "outputs": [
    {
     "data": {
      "text/html": [
       "<div>\n",
       "<style scoped>\n",
       "    .dataframe tbody tr th:only-of-type {\n",
       "        vertical-align: middle;\n",
       "    }\n",
       "\n",
       "    .dataframe tbody tr th {\n",
       "        vertical-align: top;\n",
       "    }\n",
       "\n",
       "    .dataframe thead th {\n",
       "        text-align: right;\n",
       "    }\n",
       "</style>\n",
       "<table border=\"1\" class=\"dataframe\">\n",
       "  <thead>\n",
       "    <tr style=\"text-align: right;\">\n",
       "      <th></th>\n",
       "      <th>temp</th>\n",
       "      <th>humidity</th>\n",
       "      <th>precip</th>\n",
       "      <th>windspeed</th>\n",
       "      <th>pressure</th>\n",
       "      <th>cloudcover</th>\n",
       "      <th>visibility</th>\n",
       "      <th>uvindex</th>\n",
       "      <th>Clear</th>\n",
       "      <th>Partially cloudy</th>\n",
       "      <th>Rain</th>\n",
       "      <th>Snow</th>\n",
       "      <th>Overcast</th>\n",
       "      <th>month</th>\n",
       "      <th>day_of_week</th>\n",
       "    </tr>\n",
       "  </thead>\n",
       "  <tbody>\n",
       "    <tr>\n",
       "      <th>0</th>\n",
       "      <td>9.8</td>\n",
       "      <td>68.37</td>\n",
       "      <td>0.33</td>\n",
       "      <td>42.0</td>\n",
       "      <td>1014.5</td>\n",
       "      <td>70.2</td>\n",
       "      <td>55.1</td>\n",
       "      <td>0.0</td>\n",
       "      <td>0</td>\n",
       "      <td>1</td>\n",
       "      <td>1</td>\n",
       "      <td>0</td>\n",
       "      <td>0</td>\n",
       "      <td>1</td>\n",
       "      <td>2</td>\n",
       "    </tr>\n",
       "    <tr>\n",
       "      <th>1</th>\n",
       "      <td>10.5</td>\n",
       "      <td>78.29</td>\n",
       "      <td>11.94</td>\n",
       "      <td>35.5</td>\n",
       "      <td>1010.2</td>\n",
       "      <td>59.2</td>\n",
       "      <td>46.5</td>\n",
       "      <td>0.0</td>\n",
       "      <td>0</td>\n",
       "      <td>1</td>\n",
       "      <td>1</td>\n",
       "      <td>0</td>\n",
       "      <td>0</td>\n",
       "      <td>1</td>\n",
       "      <td>3</td>\n",
       "    </tr>\n",
       "    <tr>\n",
       "      <th>2</th>\n",
       "      <td>10.0</td>\n",
       "      <td>86.57</td>\n",
       "      <td>15.77</td>\n",
       "      <td>25.4</td>\n",
       "      <td>1015.3</td>\n",
       "      <td>88.8</td>\n",
       "      <td>30.3</td>\n",
       "      <td>0.0</td>\n",
       "      <td>0</td>\n",
       "      <td>1</td>\n",
       "      <td>1</td>\n",
       "      <td>0</td>\n",
       "      <td>0</td>\n",
       "      <td>1</td>\n",
       "      <td>4</td>\n",
       "    </tr>\n",
       "    <tr>\n",
       "      <th>3</th>\n",
       "      <td>9.5</td>\n",
       "      <td>86.54</td>\n",
       "      <td>19.85</td>\n",
       "      <td>31.4</td>\n",
       "      <td>1007.3</td>\n",
       "      <td>88.4</td>\n",
       "      <td>33.2</td>\n",
       "      <td>0.0</td>\n",
       "      <td>0</td>\n",
       "      <td>1</td>\n",
       "      <td>1</td>\n",
       "      <td>0</td>\n",
       "      <td>0</td>\n",
       "      <td>1</td>\n",
       "      <td>5</td>\n",
       "    </tr>\n",
       "    <tr>\n",
       "      <th>4</th>\n",
       "      <td>5.3</td>\n",
       "      <td>83.87</td>\n",
       "      <td>14.64</td>\n",
       "      <td>14.3</td>\n",
       "      <td>1014.0</td>\n",
       "      <td>69.0</td>\n",
       "      <td>29.0</td>\n",
       "      <td>0.0</td>\n",
       "      <td>0</td>\n",
       "      <td>1</td>\n",
       "      <td>1</td>\n",
       "      <td>0</td>\n",
       "      <td>0</td>\n",
       "      <td>1</td>\n",
       "      <td>6</td>\n",
       "    </tr>\n",
       "  </tbody>\n",
       "</table>\n",
       "</div>"
      ],
      "text/plain": [
       "   temp  humidity  precip  windspeed  pressure  cloudcover  visibility  \\\n",
       "0   9.8     68.37    0.33       42.0    1014.5        70.2        55.1   \n",
       "1  10.5     78.29   11.94       35.5    1010.2        59.2        46.5   \n",
       "2  10.0     86.57   15.77       25.4    1015.3        88.8        30.3   \n",
       "3   9.5     86.54   19.85       31.4    1007.3        88.4        33.2   \n",
       "4   5.3     83.87   14.64       14.3    1014.0        69.0        29.0   \n",
       "\n",
       "   uvindex  Clear  Partially cloudy  Rain  Snow  Overcast  month  day_of_week  \n",
       "0      0.0      0                 1     1     0         0      1            2  \n",
       "1      0.0      0                 1     1     0         0      1            3  \n",
       "2      0.0      0                 1     1     0         0      1            4  \n",
       "3      0.0      0                 1     1     0         0      1            5  \n",
       "4      0.0      0                 1     1     0         0      1            6  "
      ]
     },
     "execution_count": 9,
     "metadata": {},
     "output_type": "execute_result"
    }
   ],
   "source": [
    "X.head()"
   ]
  },
  {
   "cell_type": "markdown",
   "metadata": {},
   "source": [
    "## Features selection"
   ]
  },
  {
   "cell_type": "markdown",
   "metadata": {},
   "source": [
    "### Select From Model"
   ]
  },
  {
   "cell_type": "code",
   "execution_count": 10,
   "metadata": {},
   "outputs": [
    {
     "name": "stdout",
     "output_type": "stream",
     "text": [
      "Number of features: 7\n",
      "Features selected:\n",
      "Index(['temp', 'humidity', 'precip', 'windspeed', 'pressure', 'cloudcover',\n",
      "       'visibility'],\n",
      "      dtype='object')\n"
     ]
    }
   ],
   "source": [
    "# With RFC\n",
    "SFM = SelectFromModel(estimator=RandomForestClassifier())\n",
    "s=SFM.fit(X, y)\n",
    "\n",
    "\n",
    "#Results\n",
    "n_features = s.transform(X).shape[1]\n",
    "print(f'Number of features: {n_features}')\n",
    "feature_idx = s.get_support()\n",
    "feature_name = X.columns[feature_idx]\n",
    "print(f'Features selected:\\n{feature_name}') "
   ]
  },
  {
   "cell_type": "code",
   "execution_count": 11,
   "metadata": {},
   "outputs": [
    {
     "name": "stdout",
     "output_type": "stream",
     "text": [
      "Number of features: 6\n",
      "Features selected:\n",
      "Index(['temp', 'humidity', 'windspeed', 'pressure', 'cloudcover',\n",
      "       'visibility'],\n",
      "      dtype='object')\n"
     ]
    }
   ],
   "source": [
    "# With BRFC\n",
    "SFM = SelectFromModel(estimator=BalancedRandomForestClassifier())\n",
    "s=SFM.fit(X, y)\n",
    "\n",
    "\n",
    "#Results\n",
    "n_features = s.transform(X).shape[1]\n",
    "print(f'Number of features: {n_features}')\n",
    "feature_idx = s.get_support()\n",
    "feature_name = X.columns[feature_idx]\n",
    "print(f'Features selected:\\n{feature_name}') "
   ]
  },
  {
   "cell_type": "code",
   "execution_count": 12,
   "metadata": {},
   "outputs": [
    {
     "name": "stdout",
     "output_type": "stream",
     "text": [
      "Number of features: 3\n",
      "Features selected:\n",
      "Index(['humidity', 'visibility', 'uvindex'], dtype='object')\n"
     ]
    }
   ],
   "source": [
    "# With LR - Logistic Regression\n",
    "SFM = SelectFromModel(estimator=LogisticRegression())\n",
    "s=SFM.fit(X_stand, y)\n",
    "\n",
    "\n",
    "#Results\n",
    "n_features = s.transform(X_stand).shape[1]\n",
    "print(f'Number of features: {n_features}')\n",
    "feature_idx = s.get_support()\n",
    "feature_name = X.columns[feature_idx]\n",
    "print(f'Features selected:\\n{feature_name}') "
   ]
  },
  {
   "cell_type": "markdown",
   "metadata": {},
   "source": [
    "RFE - Recursive Feature Elimination"
   ]
  },
  {
   "cell_type": "code",
   "execution_count": 13,
   "metadata": {},
   "outputs": [
    {
     "name": "stdout",
     "output_type": "stream",
     "text": [
      "Num Features: 7\n",
      "Selected Features: [ True  True  True  True  True  True  True False False False False False\n",
      " False False False]\n",
      "Feature Ranking: [1 1 1 1 1 1 1 3 7 6 5 9 8 2 4]\n"
     ]
    }
   ],
   "source": [
    "rfe_selector = RFE(estimator=RandomForestClassifier())\n",
    "m=rfe_selector.fit(X, y)\n",
    "X.columns[m.get_support()]\n",
    "print(\"Num Features: %s\" % (m.n_features_))\n",
    "print(\"Selected Features: %s\" % (m.support_))\n",
    "print(\"Feature Ranking: %s\" % (m.ranking_))"
   ]
  },
  {
   "cell_type": "markdown",
   "metadata": {},
   "source": [
    "RFECV"
   ]
  },
  {
   "cell_type": "code",
   "execution_count": 14,
   "metadata": {},
   "outputs": [
    {
     "name": "stdout",
     "output_type": "stream",
     "text": [
      "Fitting estimator with 15 features.\n",
      "Fitting estimator with 14 features.\n",
      "Fitting estimator with 13 features.\n",
      "Fitting estimator with 12 features.\n"
     ]
    },
    {
     "name": "stderr",
     "output_type": "stream",
     "text": [
      "C:\\Users\\radek\\anaconda3\\lib\\site-packages\\sklearn\\base.py:445: UserWarning: X does not have valid feature names, but RFECV was fitted with feature names\n",
      "  warnings.warn(\n"
     ]
    }
   ],
   "source": [
    "rfecv = RFECV(\n",
    "    estimator=RandomForestClassifier(),\n",
    "    min_features_to_select=2,\n",
    "    step=1,\n",
    "    n_jobs=-1,\n",
    "    verbose=1,\n",
    "    scoring=\"r2\",\n",
    "    cv=5,\n",
    ")\n",
    "\n",
    "m= rfecv.fit(X, y)"
   ]
  },
  {
   "cell_type": "code",
   "execution_count": 14,
   "metadata": {},
   "outputs": [
    {
     "data": {
      "text/plain": [
       "Index(['temp', 'humidity', 'precip', 'windspeed', 'pressure', 'cloudcover',\n",
       "       'visibility', 'uvindex', 'Partially cloudy', 'Rain', 'month',\n",
       "       'day_of_week'],\n",
       "      dtype='object')"
      ]
     },
     "execution_count": 14,
     "metadata": {},
     "output_type": "execute_result"
    }
   ],
   "source": [
    "features_selected = X.columns[rfecv.support_]\n",
    "features_selected"
   ]
  },
  {
   "cell_type": "code",
   "execution_count": null,
   "metadata": {},
   "outputs": [],
   "source": [
    "# All of the features selectors suggest to work 7-8 columns alll of them greatly dependent on the weather. In contrast to Paris data here RFECV showed that month and day of the week have influence on the model. I will try two variants: \n",
    "# First with all of the columns.\n",
    "# Second with just the columns proposed by the feature selection."
   ]
  },
  {
   "cell_type": "markdown",
   "metadata": {},
   "source": [
    "### Train test split"
   ]
  },
  {
   "cell_type": "markdown",
   "metadata": {},
   "source": [
    "Data"
   ]
  },
  {
   "cell_type": "code",
   "execution_count": 15,
   "metadata": {},
   "outputs": [
    {
     "name": "stdout",
     "output_type": "stream",
     "text": [
      "(2337, 15)\n",
      "(2337,)\n",
      "(585, 15)\n",
      "(585,)\n"
     ]
    }
   ],
   "source": [
    "x_train, x_test, y_train, y_test = train_test_split(X, y, test_size=0.2, random_state=5)\n",
    "print(x_train.shape)\n",
    "print(y_train.shape)\n",
    "print(x_test.shape)\n",
    "print(y_test.shape)"
   ]
  },
  {
   "cell_type": "markdown",
   "metadata": {},
   "source": [
    "Standarized data"
   ]
  },
  {
   "cell_type": "code",
   "execution_count": 16,
   "metadata": {},
   "outputs": [
    {
     "name": "stdout",
     "output_type": "stream",
     "text": [
      "(2337, 15)\n",
      "(2337,)\n",
      "(585, 15)\n",
      "(585,)\n"
     ]
    }
   ],
   "source": [
    "x_train_st, x_test_st, y_train, y_test = train_test_split(X_stand, y, test_size=0.2, random_state=5)\n",
    "print(x_train_st.shape)\n",
    "print(y_train.shape)\n",
    "print(x_test_st.shape)\n",
    "print(y_test.shape)"
   ]
  },
  {
   "cell_type": "markdown",
   "metadata": {},
   "source": [
    "Function to evaluate models"
   ]
  },
  {
   "cell_type": "code",
   "execution_count": 17,
   "metadata": {},
   "outputs": [],
   "source": [
    "def generate_results(model, predictions, name):\n",
    "    cl_rep = classification_report(y_test, predictions)\n",
    "    print(\"\\nThe classification report for \" + name + \" is:\", cl_rep, sep = \"\\n\")\n",
    "    cm_model = confusion_matrix(y_test, predictions)\n",
    "    print(\"\\nBalanced accuracy_score \", balanced_accuracy_score(y_test,predictions))\n",
    "    print(\"\\nF1_score \",f1_score(y_test,predictions, average='weighted'))\n",
    "    plt.figure(figsize = (8, 6))\n",
    "    sns.heatmap(cm_model, annot = True, cmap = 'YlGn', annot_kws = {'size': 15}, square = True)\n",
    "    plt.title('Confusion Matrix for ' + name, size = 15)\n",
    "    plt.xticks(size = 15)\n",
    "    plt.yticks(size = 15)\n",
    "    plt.show() "
   ]
  },
  {
   "cell_type": "markdown",
   "metadata": {},
   "source": [
    "### Hyperparameter Tunning "
   ]
  },
  {
   "cell_type": "markdown",
   "metadata": {},
   "source": [
    "Logistic Regression"
   ]
  },
  {
   "cell_type": "code",
   "execution_count": 18,
   "metadata": {},
   "outputs": [
    {
     "name": "stdout",
     "output_type": "stream",
     "text": [
      "Fitting 3 folds for each of 90 candidates, totalling 270 fits\n"
     ]
    },
    {
     "name": "stderr",
     "output_type": "stream",
     "text": [
      "C:\\Users\\radek\\anaconda3\\lib\\site-packages\\sklearn\\model_selection\\_validation.py:372: FitFailedWarning: \n",
      "18 fits failed out of a total of 270.\n",
      "The score on these train-test partitions for these parameters will be set to nan.\n",
      "If these failures are not expected, you can try to debug them by setting error_score='raise'.\n",
      "\n",
      "Below are more details about the failures:\n",
      "--------------------------------------------------------------------------------\n",
      "18 fits failed with the following error:\n",
      "Traceback (most recent call last):\n",
      "  File \"C:\\Users\\radek\\anaconda3\\lib\\site-packages\\sklearn\\model_selection\\_validation.py\", line 681, in _fit_and_score\n",
      "    estimator.fit(X_train, y_train, **fit_params)\n",
      "  File \"C:\\Users\\radek\\anaconda3\\lib\\site-packages\\sklearn\\linear_model\\_logistic.py\", line 1519, in fit\n",
      "    multi_class = _check_multi_class(self.multi_class, solver, len(self.classes_))\n",
      "  File \"C:\\Users\\radek\\anaconda3\\lib\\site-packages\\sklearn\\linear_model\\_logistic.py\", line 483, in _check_multi_class\n",
      "    raise ValueError(\"Solver %s does not support a multinomial backend.\" % solver)\n",
      "ValueError: Solver liblinear does not support a multinomial backend.\n",
      "\n",
      "  warnings.warn(some_fits_failed_message, FitFailedWarning)\n",
      "C:\\Users\\radek\\anaconda3\\lib\\site-packages\\sklearn\\model_selection\\_search.py:969: UserWarning: One or more of the test scores are non-finite: [0.71704163 0.71704163 0.66838373 0.71731883 0.7105147  0.66122381\n",
      " 0.66122381 0.66838373 0.66556782 0.66742244 0.71704163 0.71704163\n",
      "        nan 0.71685992 0.7105147  0.71704163 0.71704163 0.66838373\n",
      " 0.7152594  0.71641178 0.66122381 0.66122381 0.66838373 0.66335775\n",
      " 0.66842928 0.71704163 0.71704163        nan 0.7149337  0.71595287\n",
      " 0.71704163 0.71704163 0.66838373 0.71698677 0.71705181 0.66122381\n",
      " 0.66122381 0.66838373 0.66333824 0.66598916 0.71704163 0.71704163\n",
      "        nan 0.71698677 0.71751072 0.71704163 0.71704163 0.66838373\n",
      " 0.71912044 0.71766735 0.66122381 0.66122381 0.66838373 0.66154951\n",
      " 0.66335775 0.71704163 0.71704163        nan 0.71902479 0.71743789\n",
      " 0.71704163 0.71704163 0.66838373 0.7171404  0.71548885 0.66122381\n",
      " 0.66122381 0.66838373 0.66154951 0.66335775 0.71704163 0.71704163\n",
      "        nan 0.7171404  0.71548885 0.71704163 0.71704163 0.66838373\n",
      " 0.71737044 0.71516375 0.66122381 0.66122381 0.66838373 0.66154951\n",
      " 0.66335775 0.71704163 0.71704163        nan 0.71737044 0.71647407]\n",
      "  warnings.warn(\n"
     ]
    },
    {
     "name": "stdout",
     "output_type": "stream",
     "text": [
      "{'max_iter': 250, 'multi_class': 'auto', 'solver': 'sag'}\n",
      "0.7191204387560696\n"
     ]
    },
    {
     "name": "stderr",
     "output_type": "stream",
     "text": [
      "C:\\Users\\radek\\anaconda3\\lib\\site-packages\\sklearn\\linear_model\\_sag.py:352: ConvergenceWarning: The max_iter was reached which means the coef_ did not converge\n",
      "  warnings.warn(\n"
     ]
    }
   ],
   "source": [
    "grid_search = GridSearchCV(LogisticRegression(),\n",
    "                           {\n",
    "                              'max_iter': np.arange(100,400,50),\n",
    "                              'solver' : ['newton-cg', 'lbfgs', 'liblinear', 'sag', 'saga'],\n",
    "                              'multi_class': ['auto', 'ovr', 'multinomial']\n",
    "                            },cv=3, scoring=\"balanced_accuracy\",verbose=1,n_jobs=-1\n",
    "                           )\n",
    "grid_search.fit(X_stand,y)\n",
    "print(grid_search.best_params_)\n",
    "print(grid_search.best_score_)"
   ]
  },
  {
   "cell_type": "markdown",
   "metadata": {},
   "source": [
    "Random Forest Classifier"
   ]
  },
  {
   "cell_type": "code",
   "execution_count": 19,
   "metadata": {},
   "outputs": [
    {
     "name": "stdout",
     "output_type": "stream",
     "text": [
      "Fitting 5 folds for each of 10 candidates, totalling 50 fits\n",
      "{'n_estimators': 200, 'min_samples_split': 10, 'min_samples_leaf': 1, 'max_features': 'sqrt', 'max_depth': 30, 'bootstrap': False}\n",
      "0.7262145049122744\n"
     ]
    }
   ],
   "source": [
    "rand_search = RandomizedSearchCV(RandomForestClassifier(),\n",
    "                           {'bootstrap': [True, False],\n",
    "                            'max_depth': [10, 20, 30, 40, 50, 60, 70, 80, 90, 100, None],\n",
    "                            'max_features': ['auto', 'sqrt'],\n",
    "                            'min_samples_leaf': [1, 2, 4],\n",
    "                            'min_samples_split': [2, 5, 10],\n",
    "                            'n_estimators': [100, 200, 400, 600, 800, 1000, 1200, 1400, 1600, 1800, 2000]},\n",
    "                            cv=5, scoring=\"balanced_accuracy\",verbose=1,n_jobs=-1\n",
    "                           )\n",
    "rand_search.fit(X,y)\n",
    "print(rand_search.best_params_)\n",
    "print(rand_search.best_score_)"
   ]
  },
  {
   "cell_type": "markdown",
   "metadata": {},
   "source": [
    "Balanced random Forest Classifier"
   ]
  },
  {
   "cell_type": "code",
   "execution_count": 20,
   "metadata": {},
   "outputs": [
    {
     "name": "stdout",
     "output_type": "stream",
     "text": [
      "Fitting 5 folds for each of 10 candidates, totalling 50 fits\n",
      "{'n_estimators': 600, 'min_samples_split': 2, 'min_samples_leaf': 1, 'max_features': 'auto', 'max_depth': 20, 'bootstrap': False}\n",
      "0.7989066064549531\n"
     ]
    }
   ],
   "source": [
    "rand_search = RandomizedSearchCV(BalancedRandomForestClassifier(),\n",
    "                           {'bootstrap': [True, False],\n",
    "                            'max_depth': [10, 20, 30, 40, 50, 60, 70, 80, 90, 100, None],\n",
    "                            'max_features': ['auto', 'sqrt'],\n",
    "                            'min_samples_leaf': [1, 2, 4],\n",
    "                            'min_samples_split': [2, 5, 10],\n",
    "                            'n_estimators': [100, 200, 400, 600, 800, 1000, 1200, 1400, 1600, 1800, 2000]},\n",
    "                            cv=5, scoring=\"balanced_accuracy\",verbose=1,n_jobs=-1\n",
    "                           )\n",
    "rand_search.fit(X,y)\n",
    "print(rand_search.best_params_)\n",
    "print(rand_search.best_score_)"
   ]
  },
  {
   "cell_type": "markdown",
   "metadata": {},
   "source": [
    "## Models"
   ]
  },
  {
   "cell_type": "markdown",
   "metadata": {},
   "source": [
    "### Logistic Regression"
   ]
  },
  {
   "cell_type": "code",
   "execution_count": 18,
   "metadata": {},
   "outputs": [
    {
     "name": "stdout",
     "output_type": "stream",
     "text": [
      "The accuracy of the Logistic Regression is: 79.14529914529915 %\n",
      "\n",
      "The classification report for Logistic Regression is:\n",
      "              precision    recall  f1-score   support\n",
      "\n",
      "           0       0.81      0.92      0.86       365\n",
      "           1       0.75      0.58      0.66       199\n",
      "           2       0.71      0.57      0.63        21\n",
      "\n",
      "    accuracy                           0.79       585\n",
      "   macro avg       0.76      0.69      0.72       585\n",
      "weighted avg       0.79      0.79      0.78       585\n",
      "\n",
      "\n",
      "Balanced accuracy_score  0.6907171211569917\n",
      "\n",
      "F1_score  0.7829279598770207\n"
     ]
    },
    {
     "data": {
      "image/png": "[encoded data removed]",
      "text/plain": [
       "<Figure size 576x432 with 2 Axes>"
      ]
     },
     "metadata": {},
     "output_type": "display_data"
    }
   ],
   "source": [
    "lr = LogisticRegression()\n",
    "lr.fit(x_train_st, y_train)\n",
    "\n",
    "\n",
    "# Results\n",
    "y_pred = lr.predict(x_test_st)\n",
    "# Predict probabilities\n",
    "probs_y=lr.predict_proba(x_test_st)\n",
    "### Print results \n",
    "probs_y = np.round(probs_y, 2)\n",
    "\n",
    "print('The accuracy of the Logistic Regression is:', lr.score(x_test_st, y_test) * 100, '%')\n",
    "generate_results(lr, y_pred, 'Logistic Regression')"
   ]
  },
  {
   "cell_type": "markdown",
   "metadata": {},
   "source": [
    "Results from hyperparameters tunning:\n",
    "\n",
    "{'max_iter': 250, 'multi_class': 'auto', 'solver': 'sag'}"
   ]
  },
  {
   "cell_type": "code",
   "execution_count": 19,
   "metadata": {},
   "outputs": [
    {
     "name": "stdout",
     "output_type": "stream",
     "text": [
      "The accuracy of the Logistic Regression is: 79.14529914529915 %\n",
      "\n",
      "The classification report for Logistic Regression is:\n",
      "              precision    recall  f1-score   support\n",
      "\n",
      "           0       0.81      0.92      0.86       365\n",
      "           1       0.75      0.58      0.66       199\n",
      "           2       0.71      0.57      0.63        21\n",
      "\n",
      "    accuracy                           0.79       585\n",
      "   macro avg       0.76      0.69      0.72       585\n",
      "weighted avg       0.79      0.79      0.78       585\n",
      "\n",
      "\n",
      "Balanced accuracy_score  0.6907171211569917\n",
      "\n",
      "F1_score  0.7829279598770207\n"
     ]
    },
    {
     "name": "stderr",
     "output_type": "stream",
     "text": [
      "C:\\Users\\radek\\anaconda3\\lib\\site-packages\\sklearn\\linear_model\\_sag.py:352: ConvergenceWarning: The max_iter was reached which means the coef_ did not converge\n",
      "  warnings.warn(\n"
     ]
    },
    {
     "data": {
      "image/png": "[encoded data removed]",
      "text/plain": [
       "<Figure size 576x432 with 2 Axes>"
      ]
     },
     "metadata": {},
     "output_type": "display_data"
    }
   ],
   "source": [
    "lr = LogisticRegression(max_iter=250, multi_class='auto', solver='sag')\n",
    "lr.fit(x_train_st, y_train)\n",
    "\n",
    "\n",
    "# Results\n",
    "y_pred = lr.predict(x_test_st)\n",
    "# Predict probabilities\n",
    "probs_y=lr.predict_proba(x_test_st)\n",
    "### Print results \n",
    "probs_y = np.round(probs_y, 2)\n",
    "\n",
    "print('The accuracy of the Logistic Regression is:', lr.score(x_test_st, y_test) * 100, '%')\n",
    "generate_results(lr, y_pred, 'Logistic Regression')"
   ]
  },
  {
   "cell_type": "markdown",
   "metadata": {},
   "source": [
    "### Random Forest Classifier"
   ]
  },
  {
   "cell_type": "code",
   "execution_count": 20,
   "metadata": {},
   "outputs": [
    {
     "name": "stdout",
     "output_type": "stream",
     "text": [
      "The accuracy of the Random Forest Classifier is: 81.7094017094017 %\n",
      "\n",
      "The classification report for Random Forest Classifier is:\n",
      "              precision    recall  f1-score   support\n",
      "\n",
      "           0       0.83      0.94      0.88       365\n",
      "           1       0.79      0.62      0.70       199\n",
      "           2       0.73      0.52      0.61        21\n",
      "\n",
      "    accuracy                           0.82       585\n",
      "   macro avg       0.79      0.70      0.73       585\n",
      "weighted avg       0.81      0.82      0.81       585\n",
      "\n",
      "\n",
      "Balanced accuracy_score  0.6955503763654104\n",
      "\n",
      "F1_score  0.8090221459246393\n"
     ]
    },
    {
     "data": {
      "image/png": "[encoded data removed]",
      "text/plain": [
       "<Figure size 576x432 with 2 Axes>"
      ]
     },
     "metadata": {},
     "output_type": "display_data"
    }
   ],
   "source": [
    "rfc = RandomForestClassifier()\n",
    "rfc.fit(x_train, y_train)\n",
    "y_pred = rfc.predict(x_test)\n",
    "acc_rfc = rfc.score(x_test, y_test)\n",
    "print('The accuracy of the Random Forest Classifier is:', acc_rfc * 100, '%')\n",
    "generate_results(rfc, y_pred, 'Random Forest Classifier')"
   ]
  },
  {
   "cell_type": "markdown",
   "metadata": {},
   "source": [
    "Results from hyperparameters tunning:\n",
    "'n_estimators': 200, 'min_samples_split': 10, 'min_samples_leaf': 1, 'max_features': 'sqrt', 'max_depth': 30, 'bootstrap': False"
   ]
  },
  {
   "cell_type": "code",
   "execution_count": 21,
   "metadata": {},
   "outputs": [
    {
     "name": "stdout",
     "output_type": "stream",
     "text": [
      "The accuracy of the Random Forest Classifier is: 81.7094017094017 %\n",
      "\n",
      "The classification report for Random Forest Classifier is:\n",
      "              precision    recall  f1-score   support\n",
      "\n",
      "           0       0.84      0.93      0.88       365\n",
      "           1       0.78      0.65      0.71       199\n",
      "           2       0.73      0.52      0.61        21\n",
      "\n",
      "    accuracy                           0.82       585\n",
      "   macro avg       0.78      0.70      0.73       585\n",
      "weighted avg       0.81      0.82      0.81       585\n",
      "\n",
      "\n",
      "Balanced accuracy_score  0.6993593756999829\n",
      "\n",
      "F1_score  0.8108625718106096\n"
     ]
    },
    {
     "data": {
      "image/png": "[encoded data removed]",
      "text/plain": [
       "<Figure size 576x432 with 2 Axes>"
      ]
     },
     "metadata": {},
     "output_type": "display_data"
    }
   ],
   "source": [
    "rfc = RandomForestClassifier(n_estimators=200, min_samples_split=10, min_samples_leaf=1, max_features='sqrt', max_depth=30, bootstrap=False )\n",
    "rfc.fit(x_train, y_train)\n",
    "y_pred = rfc.predict(x_test)\n",
    "acc_rfc = rfc.score(x_test, y_test)\n",
    "print('The accuracy of the Random Forest Classifier is:', acc_rfc * 100, '%')\n",
    "generate_results(rfc, y_pred, 'Random Forest Classifier')"
   ]
  },
  {
   "cell_type": "markdown",
   "metadata": {},
   "source": [
    "### Balanced random Forest Classifier"
   ]
  },
  {
   "cell_type": "code",
   "execution_count": 22,
   "metadata": {},
   "outputs": [
    {
     "name": "stdout",
     "output_type": "stream",
     "text": [
      "The accuracy of the Random Forest Classifier is: 74.7008547008547 %\n",
      "\n",
      "The classification report for Random Forest Classifier is:\n",
      "              precision    recall  f1-score   support\n",
      "\n",
      "           0       0.85      0.87      0.86       365\n",
      "           1       0.68      0.50      0.58       199\n",
      "           2       0.30      0.90      0.45        21\n",
      "\n",
      "    accuracy                           0.75       585\n",
      "   macro avg       0.61      0.76      0.63       585\n",
      "weighted avg       0.77      0.75      0.75       585\n",
      "\n",
      "\n",
      "Balanced accuracy_score  0.7595024480961013\n",
      "\n",
      "F1_score  0.7489601214825646\n"
     ]
    },
    {
     "data": {
      "image/png": "[encoded data removed]",
      "text/plain": [
       "<Figure size 576x432 with 2 Axes>"
      ]
     },
     "metadata": {},
     "output_type": "display_data"
    }
   ],
   "source": [
    "brfc = BalancedRandomForestClassifier()\n",
    "brfc.fit(x_train, y_train)\n",
    "y_pred = brfc.predict(x_test)\n",
    "acc_brfc = brfc.score(x_test, y_test)\n",
    "print('The accuracy of the Random Forest Classifier is:', acc_brfc * 100, '%')\n",
    "generate_results(brfc, y_pred, 'Random Forest Classifier')"
   ]
  },
  {
   "cell_type": "markdown",
   "metadata": {},
   "source": [
    "Results from hyperparameters tunning\n",
    "{'n_estimators': 600, 'min_samples_split': 2, 'min_samples_leaf': 1, 'max_features': 'auto', 'max_depth': 20, 'bootstrap': False}"
   ]
  },
  {
   "cell_type": "code",
   "execution_count": 25,
   "metadata": {},
   "outputs": [
    {
     "name": "stdout",
     "output_type": "stream",
     "text": [
      "The accuracy of the Balanced Random Forest Classifier is: 76.92307692307693 %\n",
      "\n",
      "The classification report for Balanced Random Forest Classifier is:\n",
      "              precision    recall  f1-score   support\n",
      "\n",
      "           0       0.85      0.88      0.87       365\n",
      "           1       0.71      0.55      0.62       199\n",
      "           2       0.36      0.95      0.53        21\n",
      "\n",
      "    accuracy                           0.77       585\n",
      "   macro avg       0.64      0.79      0.67       585\n",
      "weighted avg       0.79      0.77      0.77       585\n",
      "\n",
      "\n",
      "Balanced accuracy_score  0.7931905668809366\n",
      "\n",
      "F1_score  0.7694112394832354\n"
     ]
    },
    {
     "data": {
      "image/png": "[encoded data removed]",
      "text/plain": [
       "<Figure size 576x432 with 2 Axes>"
      ]
     },
     "metadata": {},
     "output_type": "display_data"
    }
   ],
   "source": [
    "brfc = BalancedRandomForestClassifier(n_estimators=600,min_samples_split=2, min_samples_leaf=1, max_features='auto', max_depth=20, bootstrap=False)\n",
    "brfc.fit(x_train, y_train)\n",
    "y_pred = brfc.predict(x_test)\n",
    "acc_brfc = brfc.score(x_test, y_test)\n",
    "print('The accuracy of the Balanced Random Forest Classifier is:', acc_brfc * 100, '%')\n",
    "generate_results(brfc, y_pred, 'Balanced Random Forest Classifier')"
   ]
  },
  {
   "cell_type": "markdown",
   "metadata": {},
   "source": [
    "### TPOT"
   ]
  },
  {
   "cell_type": "code",
   "execution_count": 28,
   "metadata": {},
   "outputs": [],
   "source": [
    "model = TPOTClassifier(generations=5, population_size=50, cv=5, scoring='balanced_accuracy', verbosity=3, n_jobs=-1)"
   ]
  },
  {
   "cell_type": "code",
   "execution_count": 29,
   "metadata": {},
   "outputs": [
    {
     "name": "stdout",
     "output_type": "stream",
     "text": [
      "32 operators have been imported by TPOT.\n",
      "_pre_test decorator: _random_mutation_operator: num_test=0 Solver lbfgs supports only 'l2' or 'none' penalties, got l1 penalty..\n",
      "_pre_test decorator: _random_mutation_operator: num_test=1 '(slice(None, None, None), 0)' is an invalid key.\n",
      "_pre_test decorator: _random_mutation_operator: num_test=0 Negative values in data passed to MultinomialNB (input X).\n",
      "_pre_test decorator: _random_mutation_operator: num_test=0 Solver lbfgs supports only 'l2' or 'none' penalties, got l1 penalty..\n",
      "_pre_test decorator: _random_mutation_operator: num_test=0 Unsupported set of arguments: The combination of penalty='l1' and loss='squared_hinge' are not supported when dual=True, Parameters: penalty='l1', loss='squared_hinge', dual=True.\n",
      "_pre_test decorator: _random_mutation_operator: num_test=0 Unsupported set of arguments: The combination of penalty='l1' and loss='hinge' is not supported, Parameters: penalty='l1', loss='hinge', dual=True.\n",
      "_pre_test decorator: _random_mutation_operator: num_test=0 Found array with 0 feature(s) (shape=(50, 0)) while a minimum of 1 is required..\n",
      "                                                                             \n",
      "Generation 1 - Current Pareto front scores:\n",
      "                                                                              \n",
      "-1\t0.7648091217313289\tRandomForestClassifier(input_matrix, RandomForestClassifier__bootstrap=False, RandomForestClassifier__criterion=entropy, RandomForestClassifier__max_features=0.45, RandomForestClassifier__min_samples_leaf=11, RandomForestClassifier__min_samples_split=13, RandomForestClassifier__n_estimators=100)\n",
      "                                                                              \n",
      "-2\t0.7760398294666694\tXGBClassifier(SGDClassifier(input_matrix, SGDClassifier__alpha=0.0, SGDClassifier__eta0=1.0, SGDClassifier__fit_intercept=False, SGDClassifier__l1_ratio=0.75, SGDClassifier__learning_rate=invscaling, SGDClassifier__loss=perceptron, SGDClassifier__penalty=elasticnet, SGDClassifier__power_t=10.0), XGBClassifier__learning_rate=1.0, XGBClassifier__max_depth=7, XGBClassifier__min_child_weight=18, XGBClassifier__n_estimators=100, XGBClassifier__n_jobs=1, XGBClassifier__subsample=0.6500000000000001, XGBClassifier__verbosity=0)\n",
      "_pre_test decorator: _random_mutation_operator: num_test=0 Solver lbfgs supports only 'l2' or 'none' penalties, got l1 penalty..\n",
      "_pre_test decorator: _random_mutation_operator: num_test=0 Solver lbfgs supports only 'l2' or 'none' penalties, got l1 penalty..\n",
      "_pre_test decorator: _random_mutation_operator: num_test=0 Negative values in data passed to MultinomialNB (input X).\n",
      "_pre_test decorator: _random_mutation_operator: num_test=0 Unsupported set of arguments: The combination of penalty='l2' and loss='hinge' are not supported when dual=False, Parameters: penalty='l2', loss='hinge', dual=False.\n",
      "_pre_test decorator: _random_mutation_operator: num_test=1 Negative values in data passed to MultinomialNB (input X).\n",
      "_pre_test decorator: _random_mutation_operator: num_test=0 '(slice(None, None, None), 0)' is an invalid key.\n",
      "_pre_test decorator: _random_mutation_operator: num_test=0 Solver lbfgs supports only dual=False, got dual=True.\n",
      "                                                                              \n",
      "Generation 2 - Current Pareto front scores:\n",
      "                                                                              \n",
      "-1\t0.7760398294666694\tXGBClassifier(input_matrix, XGBClassifier__learning_rate=1.0, XGBClassifier__max_depth=7, XGBClassifier__min_child_weight=18, XGBClassifier__n_estimators=100, XGBClassifier__n_jobs=1, XGBClassifier__subsample=0.6500000000000001, XGBClassifier__verbosity=0)\n",
      "                                                                              \n",
      "-2\t0.7886737796279316\tXGBClassifier(ExtraTreesClassifier(input_matrix, ExtraTreesClassifier__bootstrap=False, ExtraTreesClassifier__criterion=entropy, ExtraTreesClassifier__max_features=0.35000000000000003, ExtraTreesClassifier__min_samples_leaf=5, ExtraTreesClassifier__min_samples_split=11, ExtraTreesClassifier__n_estimators=100), XGBClassifier__learning_rate=0.01, XGBClassifier__max_depth=8, XGBClassifier__min_child_weight=9, XGBClassifier__n_estimators=100, XGBClassifier__n_jobs=1, XGBClassifier__subsample=0.2, XGBClassifier__verbosity=0)\n",
      "                                                                              \n",
      "Generation 3 - Current Pareto front scores:\n",
      "                                                                              \n",
      "-1\t0.7760398294666694\tXGBClassifier(input_matrix, XGBClassifier__learning_rate=1.0, XGBClassifier__max_depth=7, XGBClassifier__min_child_weight=18, XGBClassifier__n_estimators=100, XGBClassifier__n_jobs=1, XGBClassifier__subsample=0.6500000000000001, XGBClassifier__verbosity=0)\n",
      "                                                                              \n",
      "-2\t0.7886737796279316\tXGBClassifier(ExtraTreesClassifier(input_matrix, ExtraTreesClassifier__bootstrap=False, ExtraTreesClassifier__criterion=entropy, ExtraTreesClassifier__max_features=0.35000000000000003, ExtraTreesClassifier__min_samples_leaf=5, ExtraTreesClassifier__min_samples_split=11, ExtraTreesClassifier__n_estimators=100), XGBClassifier__learning_rate=0.01, XGBClassifier__max_depth=8, XGBClassifier__min_child_weight=9, XGBClassifier__n_estimators=100, XGBClassifier__n_jobs=1, XGBClassifier__subsample=0.2, XGBClassifier__verbosity=0)\n",
      "_pre_test decorator: _random_mutation_operator: num_test=0 Solver lbfgs supports only 'l2' or 'none' penalties, got l1 penalty..\n",
      "_pre_test decorator: _random_mutation_operator: num_test=0 Found array with 0 feature(s) (shape=(50, 0)) while a minimum of 1 is required..\n",
      "_pre_test decorator: _random_mutation_operator: num_test=0 Solver lbfgs supports only 'l2' or 'none' penalties, got l1 penalty..\n",
      "_pre_test decorator: _random_mutation_operator: num_test=0 '(slice(None, None, None), 0)' is an invalid key.\n",
      "_pre_test decorator: _random_mutation_operator: num_test=0 Negative values in data passed to MultinomialNB (input X).\n",
      "                                                                              \n",
      "Generation 4 - Current Pareto front scores:\n",
      "                                                                              \n",
      "-1\t0.786473329328104\tXGBClassifier(input_matrix, XGBClassifier__learning_rate=1.0, XGBClassifier__max_depth=4, XGBClassifier__min_child_weight=1, XGBClassifier__n_estimators=100, XGBClassifier__n_jobs=1, XGBClassifier__subsample=0.9500000000000001, XGBClassifier__verbosity=0)\n",
      "                                                                              \n",
      "-2\t0.7886737796279316\tXGBClassifier(ExtraTreesClassifier(input_matrix, ExtraTreesClassifier__bootstrap=False, ExtraTreesClassifier__criterion=entropy, ExtraTreesClassifier__max_features=0.35000000000000003, ExtraTreesClassifier__min_samples_leaf=5, ExtraTreesClassifier__min_samples_split=11, ExtraTreesClassifier__n_estimators=100), XGBClassifier__learning_rate=0.01, XGBClassifier__max_depth=8, XGBClassifier__min_child_weight=9, XGBClassifier__n_estimators=100, XGBClassifier__n_jobs=1, XGBClassifier__subsample=0.2, XGBClassifier__verbosity=0)\n",
      "_pre_test decorator: _random_mutation_operator: num_test=0 Found array with 0 feature(s) (shape=(50, 0)) while a minimum of 1 is required..\n",
      "_pre_test decorator: _random_mutation_operator: num_test=0 Unsupported set of arguments: The combination of penalty='l1' and loss='squared_hinge' are not supported when dual=True, Parameters: penalty='l1', loss='squared_hinge', dual=True.\n",
      "_pre_test decorator: _random_mutation_operator: num_test=0 Negative values in data passed to MultinomialNB (input X).\n",
      "_pre_test decorator: _random_mutation_operator: num_test=1 Cosine affinity cannot be used when X contains zero vectors.\n",
      "_pre_test decorator: _random_mutation_operator: num_test=0 Unsupported set of arguments: The combination of penalty='l1' and loss='hinge' is not supported, Parameters: penalty='l1', loss='hinge', dual=True.\n",
      "_pre_test decorator: _random_mutation_operator: num_test=0 Solver lbfgs supports only 'l2' or 'none' penalties, got l1 penalty..\n",
      "_pre_test decorator: _random_mutation_operator: num_test=0 Expected n_neighbors <= n_samples,  but n_samples = 50, n_neighbors = 98.\n",
      "_pre_test decorator: _random_mutation_operator: num_test=0 Unsupported set of arguments: The combination of penalty='l1' and loss='hinge' is not supported, Parameters: penalty='l1', loss='hinge', dual=False.\n",
      "Skipped pipeline #265 due to time out. Continuing to the next pipeline.       \n",
      "                                                                              \n",
      "Generation 5 - Current Pareto front scores:\n",
      "                                                           \n",
      "-1\t0.786473329328104\tXGBClassifier(input_matrix, XGBClassifier__learning_rate=1.0, XGBClassifier__max_depth=4, XGBClassifier__min_child_weight=1, XGBClassifier__n_estimators=100, XGBClassifier__n_jobs=1, XGBClassifier__subsample=0.9500000000000001, XGBClassifier__verbosity=0)\n",
      "                                                           \n",
      "-2\t0.7886737796279316\tXGBClassifier(ExtraTreesClassifier(input_matrix, ExtraTreesClassifier__bootstrap=False, ExtraTreesClassifier__criterion=entropy, ExtraTreesClassifier__max_features=0.35000000000000003, ExtraTreesClassifier__min_samples_leaf=5, ExtraTreesClassifier__min_samples_split=11, ExtraTreesClassifier__n_estimators=100), XGBClassifier__learning_rate=0.01, XGBClassifier__max_depth=8, XGBClassifier__min_child_weight=9, XGBClassifier__n_estimators=100, XGBClassifier__n_jobs=1, XGBClassifier__subsample=0.2, XGBClassifier__verbosity=0)\n",
      "                                                           \r"
     ]
    },
    {
     "data": {
      "text/plain": [
       "TPOTClassifier(generations=5, n_jobs=-1, population_size=50,\n",
       "               scoring='balanced_accuracy', verbosity=3)"
      ]
     },
     "execution_count": 29,
     "metadata": {},
     "output_type": "execute_result"
    }
   ],
   "source": [
    "model.fit(x_train, y_train)"
   ]
  },
  {
   "cell_type": "code",
   "execution_count": 30,
   "metadata": {},
   "outputs": [],
   "source": [
    "model.export(r'C:\\Users\\radek\\Git-Hub\\Final_Project_Ironhack\\06 - ML\\tpot_model_Lyon.py')"
   ]
  },
  {
   "cell_type": "code",
   "execution_count": 26,
   "metadata": {},
   "outputs": [
    {
     "name": "stderr",
     "output_type": "stream",
     "text": [
      "C:\\Users\\radek\\anaconda3\\lib\\site-packages\\sklearn\\base.py:445: UserWarning: X does not have valid feature names, but ExtraTreesClassifier was fitted with feature names\n",
      "  warnings.warn(\n",
      "C:\\Users\\radek\\anaconda3\\lib\\site-packages\\sklearn\\base.py:445: UserWarning: X does not have valid feature names, but ExtraTreesClassifier was fitted with feature names\n",
      "  warnings.warn(\n",
      "C:\\Users\\radek\\anaconda3\\lib\\site-packages\\xgboost\\sklearn.py:1224: UserWarning: The use of label encoder in XGBClassifier is deprecated and will be removed in a future release. To remove this warning, do the following: 1) Pass option use_label_encoder=False when constructing XGBClassifier object; and 2) Encode your labels (y) as integers starting with 0, i.e. 0, 1, 2, ..., [num_class - 1].\n",
      "  warnings.warn(label_encoder_deprecation_msg, UserWarning)\n",
      "C:\\Users\\radek\\anaconda3\\lib\\site-packages\\sklearn\\base.py:445: UserWarning: X does not have valid feature names, but ExtraTreesClassifier was fitted with feature names\n",
      "  warnings.warn(\n",
      "C:\\Users\\radek\\anaconda3\\lib\\site-packages\\sklearn\\base.py:445: UserWarning: X does not have valid feature names, but ExtraTreesClassifier was fitted with feature names\n",
      "  warnings.warn(\n"
     ]
    }
   ],
   "source": [
    "features = lyon_ml.drop('target', axis=1)\n",
    "training_features, testing_features, training_target, testing_target = \\\n",
    "            train_test_split(features, y, random_state=None)\n",
    "\n",
    "# Average CV score on the training set was: 0.7886737796279316\n",
    "exported_pipeline = make_pipeline(\n",
    "    StackingEstimator(estimator=ExtraTreesClassifier(bootstrap=False, criterion=\"entropy\", max_features=0.35000000000000003, min_samples_leaf=5, min_samples_split=11, n_estimators=100)),\n",
    "    XGBClassifier(learning_rate=0.01, max_depth=8, min_child_weight=9, n_estimators=100, n_jobs=1, subsample=0.2, verbosity=0)\n",
    ")\n",
    "\n",
    "exported_pipeline.fit(training_features, training_target)\n",
    "results = exported_pipeline.predict(testing_features)"
   ]
  },
  {
   "cell_type": "code",
   "execution_count": 27,
   "metadata": {},
   "outputs": [
    {
     "name": "stdout",
     "output_type": "stream",
     "text": [
      "The accuracy of the Stacking Estimator is: 83.44733242134062 %\n"
     ]
    },
    {
     "name": "stderr",
     "output_type": "stream",
     "text": [
      "C:\\Users\\radek\\anaconda3\\lib\\site-packages\\sklearn\\base.py:445: UserWarning: X does not have valid feature names, but ExtraTreesClassifier was fitted with feature names\n",
      "  warnings.warn(\n",
      "C:\\Users\\radek\\anaconda3\\lib\\site-packages\\sklearn\\base.py:445: UserWarning: X does not have valid feature names, but ExtraTreesClassifier was fitted with feature names\n",
      "  warnings.warn(\n"
     ]
    }
   ],
   "source": [
    "\n",
    "acc_tpot = exported_pipeline.score(testing_features, testing_target)\n",
    "print('The accuracy of the Stacking Estimator is:', acc_tpot * 100, '%')\n",
    "# generate_results(exported_pipeline, results, 'Stacking Estimator')"
   ]
  },
  {
   "cell_type": "code",
   "execution_count": 28,
   "metadata": {},
   "outputs": [
    {
     "name": "stdout",
     "output_type": "stream",
     "text": [
      "[[422  52   1]\n",
      " [ 46 170   7]\n",
      " [  0  15  18]]\n",
      "0.7320691455503822\n",
      "0.8346022378252304\n"
     ]
    }
   ],
   "source": [
    "print(confusion_matrix(testing_target,results))\n",
    "print(balanced_accuracy_score(testing_target,results))\n",
    "print(f1_score(testing_target,results, average='weighted'))\n"
   ]
  },
  {
   "cell_type": "code",
   "execution_count": 29,
   "metadata": {},
   "outputs": [
    {
     "data": {
      "image/png": "[encoded data removed]",
      "text/plain": [
       "<Figure size 576x432 with 2 Axes>"
      ]
     },
     "metadata": {},
     "output_type": "display_data"
    }
   ],
   "source": [
    "plt.figure(figsize = (8, 6))\n",
    "sns.heatmap(confusion_matrix(testing_target,results), annot = True, cmap = 'YlGn', annot_kws = {'size': 15}, square = True)\n",
    "plt.title('Confusion Matrix for Stacking Estimator', size = 15)\n",
    "plt.xticks(size = 15)\n",
    "plt.yticks(size = 15)\n",
    "plt.show() "
   ]
  },
  {
   "cell_type": "code",
   "execution_count": 35,
   "metadata": {},
   "outputs": [
    {
     "name": "stdout",
     "output_type": "stream",
     "text": [
      "              precision    recall  f1-score   support\n",
      "\n",
      "           0       0.87      0.87      0.87       469\n",
      "           1       0.68      0.69      0.68       229\n",
      "           2       0.66      0.58      0.61        33\n",
      "\n",
      "    accuracy                           0.80       731\n",
      "   macro avg       0.73      0.71      0.72       731\n",
      "weighted avg       0.80      0.80      0.80       731\n",
      "\n"
     ]
    }
   ],
   "source": [
    "print(classification_report(testing_target,results))"
   ]
  },
  {
   "cell_type": "markdown",
   "metadata": {},
   "source": [
    "### New features selection only for Balanced Forest Classifier and TPOT proposed pipeline"
   ]
  },
  {
   "cell_type": "code",
   "execution_count": 36,
   "metadata": {},
   "outputs": [],
   "source": [
    "# New features (proposed by RFECV)\n",
    "X_new = X[features_selected]\n"
   ]
  },
  {
   "cell_type": "code",
   "execution_count": 37,
   "metadata": {},
   "outputs": [
    {
     "name": "stdout",
     "output_type": "stream",
     "text": [
      "(2337, 12)\n",
      "(2337,)\n",
      "(585, 12)\n",
      "(585,)\n"
     ]
    }
   ],
   "source": [
    "x_train, x_test, y_train, y_test = train_test_split(X_new, y, test_size=0.2, random_state=5)\n",
    "print(x_train.shape)\n",
    "print(y_train.shape)\n",
    "print(x_test.shape)\n",
    "print(y_test.shape)"
   ]
  },
  {
   "cell_type": "markdown",
   "metadata": {},
   "source": [
    "Balanced Random Forest Classifier"
   ]
  },
  {
   "cell_type": "code",
   "execution_count": 38,
   "metadata": {},
   "outputs": [
    {
     "name": "stdout",
     "output_type": "stream",
     "text": [
      "The accuracy of the Random Forest Classifier is: 74.01709401709402 %\n",
      "\n",
      "The classification report for Random Forest Classifier is:\n",
      "              precision    recall  f1-score   support\n",
      "\n",
      "           0       0.85      0.84      0.85       365\n",
      "           1       0.65      0.53      0.59       199\n",
      "           2       0.32      0.95      0.48        21\n",
      "\n",
      "    accuracy                           0.74       585\n",
      "   macro avg       0.61      0.78      0.64       585\n",
      "weighted avg       0.76      0.74      0.74       585\n",
      "\n"
     ]
    },
    {
     "data": {
      "image/png": "[encoded data removed]",
      "text/plain": [
       "<Figure size 576x432 with 2 Axes>"
      ]
     },
     "metadata": {},
     "output_type": "display_data"
    }
   ],
   "source": [
    "brfc = BalancedRandomForestClassifier()\n",
    "brfc.fit(x_train, y_train)\n",
    "y_pred = brfc.predict(x_test)\n",
    "acc_brfc = brfc.score(x_test, y_test)\n",
    "print('The accuracy of the Random Forest Classifier is:', acc_brfc * 100, '%')\n",
    "generate_results(brfc, y_pred, 'Random Forest Classifier')"
   ]
  },
  {
   "cell_type": "markdown",
   "metadata": {},
   "source": [
    "Pipline Proposed by TPOT"
   ]
  },
  {
   "cell_type": "code",
   "execution_count": 40,
   "metadata": {},
   "outputs": [
    {
     "name": "stderr",
     "output_type": "stream",
     "text": [
      "C:\\Users\\radek\\anaconda3\\lib\\site-packages\\sklearn\\base.py:445: UserWarning: X does not have valid feature names, but ExtraTreesClassifier was fitted with feature names\n",
      "  warnings.warn(\n",
      "C:\\Users\\radek\\anaconda3\\lib\\site-packages\\sklearn\\base.py:445: UserWarning: X does not have valid feature names, but ExtraTreesClassifier was fitted with feature names\n",
      "  warnings.warn(\n",
      "C:\\Users\\radek\\anaconda3\\lib\\site-packages\\xgboost\\sklearn.py:1224: UserWarning: The use of label encoder in XGBClassifier is deprecated and will be removed in a future release. To remove this warning, do the following: 1) Pass option use_label_encoder=False when constructing XGBClassifier object; and 2) Encode your labels (y) as integers starting with 0, i.e. 0, 1, 2, ..., [num_class - 1].\n",
      "  warnings.warn(label_encoder_deprecation_msg, UserWarning)\n",
      "C:\\Users\\radek\\anaconda3\\lib\\site-packages\\sklearn\\base.py:445: UserWarning: X does not have valid feature names, but ExtraTreesClassifier was fitted with feature names\n",
      "  warnings.warn(\n",
      "C:\\Users\\radek\\anaconda3\\lib\\site-packages\\sklearn\\base.py:445: UserWarning: X does not have valid feature names, but ExtraTreesClassifier was fitted with feature names\n",
      "  warnings.warn(\n"
     ]
    }
   ],
   "source": [
    "features = X_new\n",
    "training_features, testing_features, training_target, testing_target = \\\n",
    "            train_test_split(features,y, random_state=None)\n",
    "\n",
    "# Average CV score on the training set was: 0.7886737796279316\n",
    "exported_pipeline = make_pipeline(\n",
    "    StackingEstimator(estimator=ExtraTreesClassifier(bootstrap=False, criterion=\"entropy\", max_features=0.35000000000000003, min_samples_leaf=5, min_samples_split=11, n_estimators=100)),\n",
    "    XGBClassifier(learning_rate=0.01, max_depth=8, min_child_weight=9, n_estimators=100, n_jobs=1, subsample=0.2, verbosity=0)\n",
    ")\n",
    "\n",
    "exported_pipeline.fit(training_features, training_target)\n",
    "results = exported_pipeline.predict(testing_features)"
   ]
  },
  {
   "cell_type": "code",
   "execution_count": 41,
   "metadata": {},
   "outputs": [
    {
     "name": "stdout",
     "output_type": "stream",
     "text": [
      "0.7948016415868673\n",
      "[[413  62   5]\n",
      " [ 70 158   7]\n",
      " [  0   6  10]]\n",
      "0.7192523640661938\n",
      "0.7951012954428041\n"
     ]
    }
   ],
   "source": [
    "print(accuracy_score(testing_target,results))\n",
    "print(confusion_matrix(testing_target,results))\n",
    "print(balanced_accuracy_score(testing_target,results))\n",
    "print(f1_score(testing_target,results, average='weighted'))"
   ]
  },
  {
   "cell_type": "code",
   "execution_count": 42,
   "metadata": {},
   "outputs": [
    {
     "name": "stdout",
     "output_type": "stream",
     "text": [
      "              precision    recall  f1-score   support\n",
      "\n",
      "           0       0.86      0.86      0.86       480\n",
      "           1       0.70      0.67      0.69       235\n",
      "           2       0.45      0.62      0.53        16\n",
      "\n",
      "    accuracy                           0.79       731\n",
      "   macro avg       0.67      0.72      0.69       731\n",
      "weighted avg       0.80      0.79      0.80       731\n",
      "\n"
     ]
    }
   ],
   "source": [
    "print(classification_report(testing_target,results))"
   ]
  },
  {
   "cell_type": "markdown",
   "metadata": {},
   "source": [
    "### Isolation Forest Model"
   ]
  },
  {
   "cell_type": "code",
   "execution_count": 43,
   "metadata": {},
   "outputs": [
    {
     "name": "stdout",
     "output_type": "stream",
     "text": [
      "\n",
      "The classification report for Isolation Forest Classifier is:\n",
      "              precision    recall  f1-score   support\n",
      "\n",
      "          -1       0.00      0.00      0.00         0\n",
      "           0       0.00      0.00      0.00       365\n",
      "           1       0.32      0.56      0.41       199\n",
      "           2       0.00      0.00      0.00        21\n",
      "\n",
      "    accuracy                           0.19       585\n",
      "   macro avg       0.08      0.14      0.10       585\n",
      "weighted avg       0.11      0.19      0.14       585\n",
      "\n"
     ]
    },
    {
     "name": "stderr",
     "output_type": "stream",
     "text": [
      "C:\\Users\\radek\\anaconda3\\lib\\site-packages\\sklearn\\metrics\\_classification.py:1308: UndefinedMetricWarning: Precision and F-score are ill-defined and being set to 0.0 in labels with no predicted samples. Use `zero_division` parameter to control this behavior.\n",
      "  _warn_prf(average, modifier, msg_start, len(result))\n",
      "C:\\Users\\radek\\anaconda3\\lib\\site-packages\\sklearn\\metrics\\_classification.py:1308: UndefinedMetricWarning: Recall and F-score are ill-defined and being set to 0.0 in labels with no true samples. Use `zero_division` parameter to control this behavior.\n",
      "  _warn_prf(average, modifier, msg_start, len(result))\n",
      "C:\\Users\\radek\\anaconda3\\lib\\site-packages\\sklearn\\metrics\\_classification.py:1308: UndefinedMetricWarning: Precision and F-score are ill-defined and being set to 0.0 in labels with no predicted samples. Use `zero_division` parameter to control this behavior.\n",
      "  _warn_prf(average, modifier, msg_start, len(result))\n",
      "C:\\Users\\radek\\anaconda3\\lib\\site-packages\\sklearn\\metrics\\_classification.py:1308: UndefinedMetricWarning: Recall and F-score are ill-defined and being set to 0.0 in labels with no true samples. Use `zero_division` parameter to control this behavior.\n",
      "  _warn_prf(average, modifier, msg_start, len(result))\n",
      "C:\\Users\\radek\\anaconda3\\lib\\site-packages\\sklearn\\metrics\\_classification.py:1308: UndefinedMetricWarning: Precision and F-score are ill-defined and being set to 0.0 in labels with no predicted samples. Use `zero_division` parameter to control this behavior.\n",
      "  _warn_prf(average, modifier, msg_start, len(result))\n",
      "C:\\Users\\radek\\anaconda3\\lib\\site-packages\\sklearn\\metrics\\_classification.py:1308: UndefinedMetricWarning: Recall and F-score are ill-defined and being set to 0.0 in labels with no true samples. Use `zero_division` parameter to control this behavior.\n",
      "  _warn_prf(average, modifier, msg_start, len(result))\n"
     ]
    },
    {
     "data": {
      "image/png": "[encoded data removed]",
      "text/plain": [
       "<Figure size 576x432 with 2 Axes>"
      ]
     },
     "metadata": {},
     "output_type": "display_data"
    }
   ],
   "source": [
    "iso_for =  IsolationForest()\n",
    "iso_for.fit(x_train, y_train)\n",
    "y_pred = iso_for.predict(x_test)\n",
    "# acc_iso_for = iso_for.score(x_test, y_test)\n",
    "# print('The accuracy of the Isolation Forest Classifier is:', acc_iso_for * 100, '%')\n",
    "generate_results(iso_for, y_pred, 'Isolation Forest Classifier')"
   ]
  },
  {
   "cell_type": "markdown",
   "metadata": {},
   "source": [
    "## Unsupervised Learning"
   ]
  },
  {
   "cell_type": "code",
   "execution_count": 44,
   "metadata": {},
   "outputs": [],
   "source": [
    "def unsupervised_metrics(X, y_true, y_pred):\n",
    "\tprint(\"Silhouette Coefficient is equal to:\", (silhouette_score(X,y_pred)))\n",
    "\tprint(\"Variance Ratio Crterion is equal to:\", (calinski_harabasz_score(X, y_pred)))\n",
    "\tprint(\"Adjusted mutual Information is equal to:\", (adjusted_mutual_info_score(y_true,y_pred)))\n",
    "\tprint(\"Completeness is equal to:\", (completeness_score(y_true,y_pred)))\n",
    "\tprint(\"Homogeneity is equal to:\", (homogeneity_score(y_true,y_pred)))\n",
    "\tprint(\"Adjusted Rand Index is equal to:\", (adjusted_rand_score(y_true,y_pred)))\n",
    "\tprint(\"Fowlkes Mallow Scorex is equal to:\",(fowlkes_mallows_score(y_true,y_pred)))"
   ]
  },
  {
   "cell_type": "markdown",
   "metadata": {},
   "source": [
    "Data"
   ]
  },
  {
   "cell_type": "code",
   "execution_count": 45,
   "metadata": {},
   "outputs": [],
   "source": [
    "data_uml = lyon_ml.drop(columns='target')"
   ]
  },
  {
   "cell_type": "code",
   "execution_count": 46,
   "metadata": {},
   "outputs": [
    {
     "data": {
      "text/html": [
       "<div>\n",
       "<style scoped>\n",
       "    .dataframe tbody tr th:only-of-type {\n",
       "        vertical-align: middle;\n",
       "    }\n",
       "\n",
       "    .dataframe tbody tr th {\n",
       "        vertical-align: top;\n",
       "    }\n",
       "\n",
       "    .dataframe thead th {\n",
       "        text-align: right;\n",
       "    }\n",
       "</style>\n",
       "<table border=\"1\" class=\"dataframe\">\n",
       "  <thead>\n",
       "    <tr style=\"text-align: right;\">\n",
       "      <th></th>\n",
       "      <th>temp</th>\n",
       "      <th>humidity</th>\n",
       "      <th>precip</th>\n",
       "      <th>windspeed</th>\n",
       "      <th>pressure</th>\n",
       "      <th>cloudcover</th>\n",
       "      <th>visibility</th>\n",
       "      <th>uvindex</th>\n",
       "      <th>Clear</th>\n",
       "      <th>Partially cloudy</th>\n",
       "      <th>Rain</th>\n",
       "      <th>Snow</th>\n",
       "      <th>Overcast</th>\n",
       "      <th>month</th>\n",
       "      <th>day_of_week</th>\n",
       "    </tr>\n",
       "  </thead>\n",
       "  <tbody>\n",
       "    <tr>\n",
       "      <th>0</th>\n",
       "      <td>9.8</td>\n",
       "      <td>68.37</td>\n",
       "      <td>0.33</td>\n",
       "      <td>42.0</td>\n",
       "      <td>1014.5</td>\n",
       "      <td>70.2</td>\n",
       "      <td>55.1</td>\n",
       "      <td>0.0</td>\n",
       "      <td>0</td>\n",
       "      <td>1</td>\n",
       "      <td>1</td>\n",
       "      <td>0</td>\n",
       "      <td>0</td>\n",
       "      <td>1</td>\n",
       "      <td>2</td>\n",
       "    </tr>\n",
       "    <tr>\n",
       "      <th>1</th>\n",
       "      <td>10.5</td>\n",
       "      <td>78.29</td>\n",
       "      <td>11.94</td>\n",
       "      <td>35.5</td>\n",
       "      <td>1010.2</td>\n",
       "      <td>59.2</td>\n",
       "      <td>46.5</td>\n",
       "      <td>0.0</td>\n",
       "      <td>0</td>\n",
       "      <td>1</td>\n",
       "      <td>1</td>\n",
       "      <td>0</td>\n",
       "      <td>0</td>\n",
       "      <td>1</td>\n",
       "      <td>3</td>\n",
       "    </tr>\n",
       "    <tr>\n",
       "      <th>2</th>\n",
       "      <td>10.0</td>\n",
       "      <td>86.57</td>\n",
       "      <td>15.77</td>\n",
       "      <td>25.4</td>\n",
       "      <td>1015.3</td>\n",
       "      <td>88.8</td>\n",
       "      <td>30.3</td>\n",
       "      <td>0.0</td>\n",
       "      <td>0</td>\n",
       "      <td>1</td>\n",
       "      <td>1</td>\n",
       "      <td>0</td>\n",
       "      <td>0</td>\n",
       "      <td>1</td>\n",
       "      <td>4</td>\n",
       "    </tr>\n",
       "    <tr>\n",
       "      <th>3</th>\n",
       "      <td>9.5</td>\n",
       "      <td>86.54</td>\n",
       "      <td>19.85</td>\n",
       "      <td>31.4</td>\n",
       "      <td>1007.3</td>\n",
       "      <td>88.4</td>\n",
       "      <td>33.2</td>\n",
       "      <td>0.0</td>\n",
       "      <td>0</td>\n",
       "      <td>1</td>\n",
       "      <td>1</td>\n",
       "      <td>0</td>\n",
       "      <td>0</td>\n",
       "      <td>1</td>\n",
       "      <td>5</td>\n",
       "    </tr>\n",
       "    <tr>\n",
       "      <th>4</th>\n",
       "      <td>5.3</td>\n",
       "      <td>83.87</td>\n",
       "      <td>14.64</td>\n",
       "      <td>14.3</td>\n",
       "      <td>1014.0</td>\n",
       "      <td>69.0</td>\n",
       "      <td>29.0</td>\n",
       "      <td>0.0</td>\n",
       "      <td>0</td>\n",
       "      <td>1</td>\n",
       "      <td>1</td>\n",
       "      <td>0</td>\n",
       "      <td>0</td>\n",
       "      <td>1</td>\n",
       "      <td>6</td>\n",
       "    </tr>\n",
       "  </tbody>\n",
       "</table>\n",
       "</div>"
      ],
      "text/plain": [
       "   temp  humidity  precip  windspeed  pressure  cloudcover  visibility  \\\n",
       "0   9.8     68.37    0.33       42.0    1014.5        70.2        55.1   \n",
       "1  10.5     78.29   11.94       35.5    1010.2        59.2        46.5   \n",
       "2  10.0     86.57   15.77       25.4    1015.3        88.8        30.3   \n",
       "3   9.5     86.54   19.85       31.4    1007.3        88.4        33.2   \n",
       "4   5.3     83.87   14.64       14.3    1014.0        69.0        29.0   \n",
       "\n",
       "   uvindex  Clear  Partially cloudy  Rain  Snow  Overcast  month  day_of_week  \n",
       "0      0.0      0                 1     1     0         0      1            2  \n",
       "1      0.0      0                 1     1     0         0      1            3  \n",
       "2      0.0      0                 1     1     0         0      1            4  \n",
       "3      0.0      0                 1     1     0         0      1            5  \n",
       "4      0.0      0                 1     1     0         0      1            6  "
      ]
     },
     "execution_count": 46,
     "metadata": {},
     "output_type": "execute_result"
    }
   ],
   "source": [
    "data_uml.head()"
   ]
  },
  {
   "cell_type": "markdown",
   "metadata": {},
   "source": [
    "### Elbow method"
   ]
  },
  {
   "cell_type": "code",
   "execution_count": 47,
   "metadata": {},
   "outputs": [
    {
     "data": {
      "image/png": "[encoded data removed]",
      "text/plain": [
       "<Figure size 576x396 with 2 Axes>"
      ]
     },
     "metadata": {},
     "output_type": "display_data"
    },
    {
     "data": {
      "text/plain": [
       "<AxesSubplot:title={'center':'Distortion Score Elbow for KMeans Clustering'}, xlabel='k', ylabel='distortion score'>"
      ]
     },
     "execution_count": 47,
     "metadata": {},
     "output_type": "execute_result"
    }
   ],
   "source": [
    "model = KMeans()\n",
    "visualizer = KElbowVisualizer(estimator = model, k = (2,10))\n",
    "visualizer.fit(data_uml)\n",
    "visualizer.poof()"
   ]
  },
  {
   "cell_type": "code",
   "execution_count": 48,
   "metadata": {},
   "outputs": [
    {
     "data": {
      "image/png": "[encoded data removed]",
      "text/plain": [
       "<Figure size 576x396 with 2 Axes>"
      ]
     },
     "metadata": {},
     "output_type": "display_data"
    },
    {
     "data": {
      "text/plain": [
       "<AxesSubplot:title={'center':'Distortion Score Elbow for AgglomerativeClustering Clustering'}, xlabel='k', ylabel='distortion score'>"
      ]
     },
     "execution_count": 48,
     "metadata": {},
     "output_type": "execute_result"
    }
   ],
   "source": [
    "model = AgglomerativeClustering()\n",
    "visualizer = KElbowVisualizer(estimator = model, k = (2,10))\n",
    "visualizer.fit(data_uml)\n",
    "visualizer.poof()"
   ]
  },
  {
   "cell_type": "markdown",
   "metadata": {},
   "source": [
    "### Models"
   ]
  },
  {
   "cell_type": "markdown",
   "metadata": {},
   "source": [
    "#### KMeans"
   ]
  },
  {
   "cell_type": "code",
   "execution_count": 53,
   "metadata": {},
   "outputs": [
    {
     "data": {
      "text/plain": [
       "array([2, 2, 1, ..., 1, 1, 2])"
      ]
     },
     "execution_count": 53,
     "metadata": {},
     "output_type": "execute_result"
    }
   ],
   "source": [
    "kmeans = KMeans(n_clusters=3, max_iter=100)\n",
    "kmeans.fit(data_uml)\n",
    "y_kmeans = kmeans.predict(data_uml)\n",
    "y_kmeans \n"
   ]
  },
  {
   "cell_type": "code",
   "execution_count": 54,
   "metadata": {},
   "outputs": [
    {
     "name": "stdout",
     "output_type": "stream",
     "text": [
      "Silhouette Coefficient is equal to: 0.2859774537361678\n",
      "Variance Ratio Crterion is equal to: 2235.25908094797\n",
      "Adjusted mutual Information is equal to: 0.0012713010519434318\n",
      "Completeness is equal to: 0.0017102315549512785\n",
      "Homogeneity is equal to: 0.0024261374314920666\n",
      "Adjusted Rand Index is equal to: 4.713866467309856e-05\n",
      "Fowlkes Mallow Scorex is equal to: 0.41412601902402274\n"
     ]
    }
   ],
   "source": [
    "unsupervised_metrics(X=data_uml, y_true=lyon_ml.target, y_pred=y_kmeans)"
   ]
  },
  {
   "cell_type": "code",
   "execution_count": 56,
   "metadata": {},
   "outputs": [
    {
     "name": "stdout",
     "output_type": "stream",
     "text": [
      "Silhouette Coefficient is equal to: 0.25559367316796594\n",
      "Variance Ratio Crterion is equal to: 1724.825648230465\n",
      "Adjusted mutual Information is equal to: 0.13895587565069575\n",
      "Completeness is equal to: 0.10419757717452653\n",
      "Homogeneity is equal to: 0.21312143507834053\n",
      "Adjusted Rand Index is equal to: 0.09948944714737971\n",
      "Fowlkes Mallow Scorex is equal to: 0.40556586297641234\n"
     ]
    }
   ],
   "source": [
    "kmeans = KMeans(n_clusters=5, max_iter=100)\n",
    "kmeans.fit(data_uml)\n",
    "y_kmeans = kmeans.predict(data_uml)\n",
    "y_kmeans\n",
    "unsupervised_metrics(X=data_uml, y_true=lyon_ml.target, y_pred=y_kmeans)\n"
   ]
  },
  {
   "cell_type": "code",
   "execution_count": null,
   "metadata": {},
   "outputs": [],
   "source": [
    "# sns.set_style('darkgrid')\n",
    "# sns.scatterplot(data=data_uml, x='temp', y='Lat', hue='labels_kmeans', palette='RdYlBu')\n",
    "# plt.show()"
   ]
  },
  {
   "cell_type": "code",
   "execution_count": 112,
   "metadata": {},
   "outputs": [
    {
     "data": {
      "text/plain": [
       "2    1158\n",
       "0     883\n",
       "1     881\n",
       "dtype: int64"
      ]
     },
     "execution_count": 112,
     "metadata": {},
     "output_type": "execute_result"
    }
   ],
   "source": [
    "y_kmeans.value_counts()"
   ]
  },
  {
   "cell_type": "markdown",
   "metadata": {},
   "source": [
    "#### Agglomerative Clustering"
   ]
  },
  {
   "cell_type": "code",
   "execution_count": 60,
   "metadata": {},
   "outputs": [],
   "source": [
    "cluster_ag = AgglomerativeClustering(n_clusters=4, affinity='euclidean', linkage='ward')  \n",
    "y_ag = cluster_ag.fit_predict(data_uml)"
   ]
  },
  {
   "cell_type": "code",
   "execution_count": 61,
   "metadata": {},
   "outputs": [
    {
     "name": "stdout",
     "output_type": "stream",
     "text": [
      "Silhouette Coefficient is equal to: 0.24745327072563852\n",
      "Variance Ratio Crterion is equal to: 1694.4655832047258\n",
      "Adjusted mutual Information is equal to: 0.09322710551486102\n",
      "Completeness is equal to: 0.07463322816294815\n",
      "Homogeneity is equal to: 0.1273898494890331\n",
      "Adjusted Rand Index is equal to: 0.06113291555635676\n",
      "Fowlkes Mallow Scorex is equal to: 0.42096742043887597\n"
     ]
    }
   ],
   "source": [
    "unsupervised_metrics(X=data_uml, y_true=lyon_ml.target, y_pred=y_ag)"
   ]
  },
  {
   "cell_type": "markdown",
   "metadata": {},
   "source": [
    "DBSCAN"
   ]
  },
  {
   "cell_type": "code",
   "execution_count": 80,
   "metadata": {},
   "outputs": [
    {
     "data": {
      "text/plain": [
       "{-1, 0}"
      ]
     },
     "execution_count": 80,
     "metadata": {},
     "output_type": "execute_result"
    }
   ],
   "source": [
    "dbscan = DBSCAN(eps=35, min_samples=10)\n",
    "dbscan.fit(data_uml)\n",
    "y_dbscan = dbscan.fit_predict(data_uml)\n",
    "set(y_dbscan)\n"
   ]
  },
  {
   "cell_type": "code",
   "execution_count": 81,
   "metadata": {},
   "outputs": [
    {
     "name": "stdout",
     "output_type": "stream",
     "text": [
      "Silhouette Coefficient is equal to: 0.37045568261593975\n",
      "Variance Ratio Crterion is equal to: 3.463712797415837\n",
      "Adjusted mutual Information is equal to: -0.0002761780717230538\n",
      "Completeness is equal to: 0.051213419654566585\n",
      "Homogeneity is equal to: 0.00020383922466844372\n",
      "Adjusted Rand Index is equal to: -0.0003357046085412414\n",
      "Fowlkes Mallow Scorex is equal to: 0.7148243193067242\n"
     ]
    }
   ],
   "source": [
    "unsupervised_metrics(X=data_uml, y_true=lyon_ml.target, y_pred=y_dbscan)"
   ]
  },
  {
   "cell_type": "code",
   "execution_count": null,
   "metadata": {},
   "outputs": [],
   "source": []
  }
 ],
 "metadata": {
  "interpreter": {
   "hash": "4ad77c0e6c5017b8cf10e15e7abcf3f93295efc1a703ed33be6cc92cf9d70fb6"
  },
  "kernelspec": {
   "display_name": "Python 3.8.12 ('base')",
   "language": "python",
   "name": "python3"
  },
  "language_info": {
   "codemirror_mode": {
    "name": "ipython",
    "version": 3
   },
   "file_extension": ".py",
   "mimetype": "text/x-python",
   "name": "python",
   "nbconvert_exporter": "python",
   "pygments_lexer": "ipython3",
   "version": "3.8.12"
  },
  "orig_nbformat": 4
 },
 "nbformat": 4,
 "nbformat_minor": 2
}
